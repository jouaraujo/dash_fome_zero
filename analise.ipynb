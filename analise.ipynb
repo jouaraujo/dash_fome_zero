{
 "cells": [
  {
   "cell_type": "code",
   "execution_count": 1,
   "metadata": {},
   "outputs": [],
   "source": [
    "# Empresa Fome Zero\n",
    "\n",
    "# A empresa Fome Zero é uma marketplace de restaurantes. Ou seja, seu core\n",
    "# business é facilitar o encontro e negociações de clientes e restaurantes. "
   ]
  },
  {
   "cell_type": "code",
   "execution_count": null,
   "metadata": {},
   "outputs": [],
   "source": [
    "# PERGUNTAS\n",
    "\n",
    "# Geral\n",
    "# 1. Quantos restaurantes únicos estão registrados?\n",
    "# 2. Quantos países únicos estão registrados?\n",
    "# 3. Quantas cidades únicas estão registradas?\n",
    "# 4. Qual o total de avaliações feitas?\n",
    "# 5. Qual o total de tipos de culinária registrados?\n",
    "\n",
    "# Pais\n",
    "# 1. Qual o nome do país que possui mais cidades registradas?\n",
    "# 2. Qual o nome do país que possui mais restaurantes registrados?\n",
    "# 3. Qual o nome do país que possui mais restaurantes com o nível de preço igual a 4\n",
    "# registrados?\n",
    "# 4. Qual o nome do país que possui a maior quantidade de tipos de culinária\n",
    "# distintos?\n",
    "# 5. Qual o nome do país que possui a maior quantidade de avaliações feitas?\n",
    "# 6. Qual o nome do país que possui a maior quantidade de restaurantes que fazem\n",
    "# entrega?\n",
    "# 7. Qual o nome do país que possui a maior quantidade de restaurantes que aceitam\n",
    "# reservas?\n",
    "# 8. Qual o nome do país que possui, na média, a maior quantidade de avaliações\n",
    "# registrada?\n",
    "# 9. Qual o nome do país que possui, na média, a maior nota média registrada?\n",
    "# 10. Qual o nome do país que possui, na média, a menor nota média registrada?\n",
    "# 11. Qual a média de preço de um prato para dois por país?\n",
    "\n",
    "# Cidade\n",
    "# 1. Qual o nome da cidade que possui mais restaurantes registrados?\n",
    "# 2. Qual o nome da cidade que possui mais restaurantes com nota média acima de\n",
    "# 4?\n",
    "# 3. Qual o nome da cidade que possui mais restaurantes com nota média abaixo de\n",
    "# 2.5?\n",
    "# 4. Qual o nome da cidade que possui o maior valor médio de um prato para dois?\n",
    "# 5. Qual o nome da cidade que possui a maior quantidade de tipos de culinária\n",
    "# distintas?\n",
    "# 6. Qual o nome da cidade que possui a maior quantidade de restaurantes que fazem\n",
    "# reservas?\n",
    "# 7. Qual o nome da cidade que possui a maior quantidade de restaurantes que fazem\n",
    "# entregas?\n",
    "# 8. Qual o nome da cidade que possui a maior quantidade de restaurantes que\n",
    "# aceitam pedidos online?\n",
    "\n",
    "# Restaurantes\n",
    "# 1. Qual o nome do restaurante que possui a maior quantidade de avaliações?\n",
    "# 2. Qual o nome do restaurante com a maior nota média?\n",
    "# 3. Qual o nome do restaurante que possui o maior valor de uma prato para duas\n",
    "# pessoas?\n",
    "# 4. Qual o nome do restaurante de tipo de culinária brasileira que possui a menor\n",
    "# média de avaliação?\n",
    "# 5. Qual o nome do restaurante de tipo de culinária brasileira, e que é do Brasil, que\n",
    "# possui a maior média de avaliação?\n",
    "# 6. Os restaurantes que aceitam pedido online são também, na média, os\n",
    "# restaurantes que mais possuem avaliações registradas?\n",
    "# 7. Os restaurantes que fazem reservas são também, na média, os restaurantes que\n",
    "# possuem o maior valor médio de um prato para duas pessoas?\n",
    "# 8. Os restaurantes do tipo de culinária japonesa dos Estados Unidos da América\n",
    "# possuem um valor médio de prato para duas pessoas maior que as churrascarias\n",
    "# americanas (BBQ)?\n",
    "\n",
    "# Tipos de Culinária\n",
    "# 1. Dos restaurantes que possuem o tipo de culinária italiana, qual o nome do\n",
    "# restaurante com a maior média de avaliação?\n",
    "# 2. Dos restaurantes que possuem o tipo de culinária italiana, qual o nome do\n",
    "# restaurante com a menor média de avaliação?\n",
    "# 3. Dos restaurantes que possuem o tipo de culinária americana, qual o nome do\n",
    "# restaurante com a maior média de avaliação?\n",
    "# 4. Dos restaurantes que possuem o tipo de culinária americana, qual o nome do\n",
    "# restaurante com a menor média de avaliação?\n",
    "# 5. Dos restaurantes que possuem o tipo de culinária árabe, qual o nome do\n",
    "# restaurante com a maior média de avaliação?\n",
    "# 6. Dos restaurantes que possuem o tipo de culinária árabe, qual o nome do\n",
    "# restaurante com a menor média de avaliação?\n",
    "# 7. Dos restaurantes que possuem o tipo de culinária japonesa, qual o nome do\n",
    "# restaurante com a maior média de avaliação?\n",
    "# 8. Dos restaurantes que possuem o tipo de culinária japonesa, qual o nome do\n",
    "# restaurante com a menor média de avaliação?\n",
    "# 9. Dos restaurantes que possuem o tipo de culinária caseira, qual o nome do\n",
    "# restaurante com a maior média de avaliação?\n",
    "# 10. Dos restaurantes que possuem o tipo de culinária caseira, qual o nome do\n",
    "# restaurante com a menor média de avaliação?\n",
    "# 11. Qual o tipo de culinária que possui o maior valor médio de um prato para duas\n",
    "# pessoas?\n",
    "# 12. Qual o tipo de culinária que possui a maior nota média?\n",
    "# 13. Qual o tipo de culinária que possui mais restaurantes que aceitam pedidos\n",
    "# online e fazem entregas?\n"
   ]
  },
  {
   "cell_type": "code",
   "execution_count": 396,
   "metadata": {},
   "outputs": [],
   "source": [
    "import pandas as pd\n",
    "import inflection\n",
    "\n",
    "pd.set_option('display.max_rows', 500)\n",
    "pd.set_option('display.max_columns', 500)"
   ]
  },
  {
   "cell_type": "code",
   "execution_count": 176,
   "metadata": {},
   "outputs": [
    {
     "data": {
      "text/html": [
       "<div>\n",
       "<style scoped>\n",
       "    .dataframe tbody tr th:only-of-type {\n",
       "        vertical-align: middle;\n",
       "    }\n",
       "\n",
       "    .dataframe tbody tr th {\n",
       "        vertical-align: top;\n",
       "    }\n",
       "\n",
       "    .dataframe thead th {\n",
       "        text-align: right;\n",
       "    }\n",
       "</style>\n",
       "<table border=\"1\" class=\"dataframe\">\n",
       "  <thead>\n",
       "    <tr style=\"text-align: right;\">\n",
       "      <th></th>\n",
       "      <th>Restaurant ID</th>\n",
       "      <th>Restaurant Name</th>\n",
       "      <th>Country Code</th>\n",
       "      <th>City</th>\n",
       "      <th>Address</th>\n",
       "      <th>Locality</th>\n",
       "      <th>Locality Verbose</th>\n",
       "      <th>Longitude</th>\n",
       "      <th>Latitude</th>\n",
       "      <th>Cuisines</th>\n",
       "      <th>Average Cost for two</th>\n",
       "      <th>Currency</th>\n",
       "      <th>Has Table booking</th>\n",
       "      <th>Has Online delivery</th>\n",
       "      <th>Is delivering now</th>\n",
       "      <th>Switch to order menu</th>\n",
       "      <th>Price range</th>\n",
       "      <th>Aggregate rating</th>\n",
       "      <th>Rating color</th>\n",
       "      <th>Rating text</th>\n",
       "      <th>Votes</th>\n",
       "    </tr>\n",
       "  </thead>\n",
       "  <tbody>\n",
       "    <tr>\n",
       "      <th>0</th>\n",
       "      <td>6310675</td>\n",
       "      <td>Mama Lou's Italian Kitchen</td>\n",
       "      <td>162</td>\n",
       "      <td>Las Piñas City</td>\n",
       "      <td>Block 1, Lot 36, Tropical Avenue Corner Tropic...</td>\n",
       "      <td>BF International</td>\n",
       "      <td>BF International, Las Piñas City</td>\n",
       "      <td>121.009787</td>\n",
       "      <td>14.447615</td>\n",
       "      <td>Italian</td>\n",
       "      <td>1100</td>\n",
       "      <td>Botswana Pula(P)</td>\n",
       "      <td>1</td>\n",
       "      <td>0</td>\n",
       "      <td>0</td>\n",
       "      <td>0</td>\n",
       "      <td>3</td>\n",
       "      <td>4.6</td>\n",
       "      <td>3F7E00</td>\n",
       "      <td>Excellent</td>\n",
       "      <td>619</td>\n",
       "    </tr>\n",
       "    <tr>\n",
       "      <th>1</th>\n",
       "      <td>6310675</td>\n",
       "      <td>Mama Lou's Italian Kitchen</td>\n",
       "      <td>162</td>\n",
       "      <td>Las Piñas City</td>\n",
       "      <td>Block 1, Lot 36, Tropical Avenue Corner Tropic...</td>\n",
       "      <td>BF International</td>\n",
       "      <td>BF International, Las Piñas City</td>\n",
       "      <td>121.009787</td>\n",
       "      <td>14.447615</td>\n",
       "      <td>Italian</td>\n",
       "      <td>1100</td>\n",
       "      <td>Botswana Pula(P)</td>\n",
       "      <td>1</td>\n",
       "      <td>0</td>\n",
       "      <td>0</td>\n",
       "      <td>0</td>\n",
       "      <td>3</td>\n",
       "      <td>4.6</td>\n",
       "      <td>3F7E00</td>\n",
       "      <td>Excellent</td>\n",
       "      <td>619</td>\n",
       "    </tr>\n",
       "    <tr>\n",
       "      <th>2</th>\n",
       "      <td>6314542</td>\n",
       "      <td>Blackbird</td>\n",
       "      <td>162</td>\n",
       "      <td>Makati City</td>\n",
       "      <td>Nielson Tower, Ayala Triangle Gardens, Salcedo...</td>\n",
       "      <td>Ayala Triangle Gardens, Salcedo Village, Makat...</td>\n",
       "      <td>Ayala Triangle Gardens, Salcedo Village, Makat...</td>\n",
       "      <td>121.024562</td>\n",
       "      <td>14.556042</td>\n",
       "      <td>European, Asian</td>\n",
       "      <td>3100</td>\n",
       "      <td>Botswana Pula(P)</td>\n",
       "      <td>0</td>\n",
       "      <td>0</td>\n",
       "      <td>0</td>\n",
       "      <td>0</td>\n",
       "      <td>4</td>\n",
       "      <td>4.7</td>\n",
       "      <td>3F7E00</td>\n",
       "      <td>Excellent</td>\n",
       "      <td>469</td>\n",
       "    </tr>\n",
       "    <tr>\n",
       "      <th>3</th>\n",
       "      <td>6301293</td>\n",
       "      <td>Banapple</td>\n",
       "      <td>162</td>\n",
       "      <td>Makati City</td>\n",
       "      <td>Ayala Triangle Gardens, Salcedo Village, Makat...</td>\n",
       "      <td>Ayala Triangle Gardens, Salcedo Village, Makat...</td>\n",
       "      <td>Ayala Triangle Gardens, Salcedo Village, Makat...</td>\n",
       "      <td>121.023171</td>\n",
       "      <td>14.556196</td>\n",
       "      <td>Filipino, American, Italian, Bakery</td>\n",
       "      <td>800</td>\n",
       "      <td>Botswana Pula(P)</td>\n",
       "      <td>0</td>\n",
       "      <td>0</td>\n",
       "      <td>0</td>\n",
       "      <td>0</td>\n",
       "      <td>3</td>\n",
       "      <td>4.4</td>\n",
       "      <td>5BA829</td>\n",
       "      <td>Very Good</td>\n",
       "      <td>867</td>\n",
       "    </tr>\n",
       "    <tr>\n",
       "      <th>4</th>\n",
       "      <td>6315689</td>\n",
       "      <td>Bad Bird</td>\n",
       "      <td>162</td>\n",
       "      <td>Makati City</td>\n",
       "      <td>Hole In The Wall, Floor 4, Century City Mall, ...</td>\n",
       "      <td>Century City Mall, Poblacion, Makati City</td>\n",
       "      <td>Century City Mall, Poblacion, Makati City, Mak...</td>\n",
       "      <td>121.027708</td>\n",
       "      <td>14.565899</td>\n",
       "      <td>American</td>\n",
       "      <td>700</td>\n",
       "      <td>Botswana Pula(P)</td>\n",
       "      <td>0</td>\n",
       "      <td>0</td>\n",
       "      <td>0</td>\n",
       "      <td>0</td>\n",
       "      <td>3</td>\n",
       "      <td>4.4</td>\n",
       "      <td>5BA829</td>\n",
       "      <td>Very Good</td>\n",
       "      <td>858</td>\n",
       "    </tr>\n",
       "    <tr>\n",
       "      <th>...</th>\n",
       "      <td>...</td>\n",
       "      <td>...</td>\n",
       "      <td>...</td>\n",
       "      <td>...</td>\n",
       "      <td>...</td>\n",
       "      <td>...</td>\n",
       "      <td>...</td>\n",
       "      <td>...</td>\n",
       "      <td>...</td>\n",
       "      <td>...</td>\n",
       "      <td>...</td>\n",
       "      <td>...</td>\n",
       "      <td>...</td>\n",
       "      <td>...</td>\n",
       "      <td>...</td>\n",
       "      <td>...</td>\n",
       "      <td>...</td>\n",
       "      <td>...</td>\n",
       "      <td>...</td>\n",
       "      <td>...</td>\n",
       "      <td>...</td>\n",
       "    </tr>\n",
       "    <tr>\n",
       "      <th>7522</th>\n",
       "      <td>5912546</td>\n",
       "      <td>Eataly</td>\n",
       "      <td>208</td>\n",
       "      <td>İstanbul</td>\n",
       "      <td>Zorlu Center AVM, Köprü Katı, Levazım Mahalles...</td>\n",
       "      <td>Zorlu Center AVM, Levazım, Beşiktaş</td>\n",
       "      <td>Zorlu Center AVM, Levazım, Beşiktaş, İstanbul</td>\n",
       "      <td>29.017326</td>\n",
       "      <td>41.065322</td>\n",
       "      <td>Italian, Pizza, Fresh Fish</td>\n",
       "      <td>300</td>\n",
       "      <td>Turkish Lira(TL)</td>\n",
       "      <td>0</td>\n",
       "      <td>0</td>\n",
       "      <td>0</td>\n",
       "      <td>0</td>\n",
       "      <td>4</td>\n",
       "      <td>4.3</td>\n",
       "      <td>5BA829</td>\n",
       "      <td>Very Good</td>\n",
       "      <td>1367</td>\n",
       "    </tr>\n",
       "    <tr>\n",
       "      <th>7523</th>\n",
       "      <td>5913006</td>\n",
       "      <td>Tarihi Çınaraltı Aile Çay Bahçesi</td>\n",
       "      <td>208</td>\n",
       "      <td>İstanbul</td>\n",
       "      <td>Çengelköy Mahallesi, Çınaraltı Camii Sokak, No...</td>\n",
       "      <td>Çengelköy Merkez</td>\n",
       "      <td>Çengelköy Merkez, İstanbul</td>\n",
       "      <td>29.052620</td>\n",
       "      <td>41.050280</td>\n",
       "      <td>Fast Food, Izgara, Seafood, Tea, Coffee</td>\n",
       "      <td>45</td>\n",
       "      <td>Turkish Lira(TL)</td>\n",
       "      <td>0</td>\n",
       "      <td>0</td>\n",
       "      <td>0</td>\n",
       "      <td>0</td>\n",
       "      <td>2</td>\n",
       "      <td>4.5</td>\n",
       "      <td>3F7E00</td>\n",
       "      <td>Excellent</td>\n",
       "      <td>1172</td>\n",
       "    </tr>\n",
       "    <tr>\n",
       "      <th>7524</th>\n",
       "      <td>5923535</td>\n",
       "      <td>Boon Cafe &amp; Restaurant</td>\n",
       "      <td>208</td>\n",
       "      <td>İstanbul</td>\n",
       "      <td>Çengelköy Mahallesi, Çengelköy Caddesi, Kara S...</td>\n",
       "      <td>Çengelköy Merkez</td>\n",
       "      <td>Çengelköy Merkez, İstanbul</td>\n",
       "      <td>29.052623</td>\n",
       "      <td>41.050717</td>\n",
       "      <td>Restaurant Cafe</td>\n",
       "      <td>140</td>\n",
       "      <td>Turkish Lira(TL)</td>\n",
       "      <td>0</td>\n",
       "      <td>0</td>\n",
       "      <td>0</td>\n",
       "      <td>0</td>\n",
       "      <td>4</td>\n",
       "      <td>4.2</td>\n",
       "      <td>5BA829</td>\n",
       "      <td>Very Good</td>\n",
       "      <td>1160</td>\n",
       "    </tr>\n",
       "    <tr>\n",
       "      <th>7525</th>\n",
       "      <td>5914190</td>\n",
       "      <td>Kanaat Lokantası</td>\n",
       "      <td>208</td>\n",
       "      <td>İstanbul</td>\n",
       "      <td>Sultantepe Mahallesi, Selmani Pak Caddesi, No ...</td>\n",
       "      <td>Üsküdar Merkez</td>\n",
       "      <td>Üsküdar Merkez, İstanbul</td>\n",
       "      <td>29.016590</td>\n",
       "      <td>41.025741</td>\n",
       "      <td>Home-made, Izgara</td>\n",
       "      <td>95</td>\n",
       "      <td>Turkish Lira(TL)</td>\n",
       "      <td>0</td>\n",
       "      <td>0</td>\n",
       "      <td>0</td>\n",
       "      <td>0</td>\n",
       "      <td>3</td>\n",
       "      <td>4.0</td>\n",
       "      <td>5BA829</td>\n",
       "      <td>Very Good</td>\n",
       "      <td>770</td>\n",
       "    </tr>\n",
       "    <tr>\n",
       "      <th>7526</th>\n",
       "      <td>5913508</td>\n",
       "      <td>Katibim</td>\n",
       "      <td>208</td>\n",
       "      <td>İstanbul</td>\n",
       "      <td>Mimar Sinan Mahallesi, Harem Sahilyolu, No 53,...</td>\n",
       "      <td>Üsküdar Merkez</td>\n",
       "      <td>Üsküdar Merkez, İstanbul</td>\n",
       "      <td>29.010808</td>\n",
       "      <td>41.025501</td>\n",
       "      <td>Restaurant Cafe, Kebab, Turkish Pizza</td>\n",
       "      <td>150</td>\n",
       "      <td>Turkish Lira(TL)</td>\n",
       "      <td>0</td>\n",
       "      <td>0</td>\n",
       "      <td>0</td>\n",
       "      <td>0</td>\n",
       "      <td>4</td>\n",
       "      <td>4.2</td>\n",
       "      <td>5BA829</td>\n",
       "      <td>Very Good</td>\n",
       "      <td>1141</td>\n",
       "    </tr>\n",
       "  </tbody>\n",
       "</table>\n",
       "<p>7527 rows × 21 columns</p>\n",
       "</div>"
      ],
      "text/plain": [
       "      Restaurant ID                    Restaurant Name  Country Code  \\\n",
       "0           6310675         Mama Lou's Italian Kitchen           162   \n",
       "1           6310675         Mama Lou's Italian Kitchen           162   \n",
       "2           6314542                          Blackbird           162   \n",
       "3           6301293                           Banapple           162   \n",
       "4           6315689                           Bad Bird           162   \n",
       "...             ...                                ...           ...   \n",
       "7522        5912546                             Eataly           208   \n",
       "7523        5913006  Tarihi Çınaraltı Aile Çay Bahçesi           208   \n",
       "7524        5923535             Boon Cafe & Restaurant           208   \n",
       "7525        5914190                   Kanaat Lokantası           208   \n",
       "7526        5913508                            Katibim           208   \n",
       "\n",
       "                City                                            Address  \\\n",
       "0     Las Piñas City  Block 1, Lot 36, Tropical Avenue Corner Tropic...   \n",
       "1     Las Piñas City  Block 1, Lot 36, Tropical Avenue Corner Tropic...   \n",
       "2        Makati City  Nielson Tower, Ayala Triangle Gardens, Salcedo...   \n",
       "3        Makati City  Ayala Triangle Gardens, Salcedo Village, Makat...   \n",
       "4        Makati City  Hole In The Wall, Floor 4, Century City Mall, ...   \n",
       "...              ...                                                ...   \n",
       "7522        İstanbul  Zorlu Center AVM, Köprü Katı, Levazım Mahalles...   \n",
       "7523        İstanbul  Çengelköy Mahallesi, Çınaraltı Camii Sokak, No...   \n",
       "7524        İstanbul  Çengelköy Mahallesi, Çengelköy Caddesi, Kara S...   \n",
       "7525        İstanbul  Sultantepe Mahallesi, Selmani Pak Caddesi, No ...   \n",
       "7526        İstanbul  Mimar Sinan Mahallesi, Harem Sahilyolu, No 53,...   \n",
       "\n",
       "                                               Locality  \\\n",
       "0                                      BF International   \n",
       "1                                      BF International   \n",
       "2     Ayala Triangle Gardens, Salcedo Village, Makat...   \n",
       "3     Ayala Triangle Gardens, Salcedo Village, Makat...   \n",
       "4             Century City Mall, Poblacion, Makati City   \n",
       "...                                                 ...   \n",
       "7522                Zorlu Center AVM, Levazım, Beşiktaş   \n",
       "7523                                   Çengelköy Merkez   \n",
       "7524                                   Çengelköy Merkez   \n",
       "7525                                     Üsküdar Merkez   \n",
       "7526                                     Üsküdar Merkez   \n",
       "\n",
       "                                       Locality Verbose   Longitude  \\\n",
       "0                      BF International, Las Piñas City  121.009787   \n",
       "1                      BF International, Las Piñas City  121.009787   \n",
       "2     Ayala Triangle Gardens, Salcedo Village, Makat...  121.024562   \n",
       "3     Ayala Triangle Gardens, Salcedo Village, Makat...  121.023171   \n",
       "4     Century City Mall, Poblacion, Makati City, Mak...  121.027708   \n",
       "...                                                 ...         ...   \n",
       "7522      Zorlu Center AVM, Levazım, Beşiktaş, İstanbul   29.017326   \n",
       "7523                         Çengelköy Merkez, İstanbul   29.052620   \n",
       "7524                         Çengelköy Merkez, İstanbul   29.052623   \n",
       "7525                           Üsküdar Merkez, İstanbul   29.016590   \n",
       "7526                           Üsküdar Merkez, İstanbul   29.010808   \n",
       "\n",
       "       Latitude                                 Cuisines  \\\n",
       "0     14.447615                                  Italian   \n",
       "1     14.447615                                  Italian   \n",
       "2     14.556042                          European, Asian   \n",
       "3     14.556196      Filipino, American, Italian, Bakery   \n",
       "4     14.565899                                 American   \n",
       "...         ...                                      ...   \n",
       "7522  41.065322               Italian, Pizza, Fresh Fish   \n",
       "7523  41.050280  Fast Food, Izgara, Seafood, Tea, Coffee   \n",
       "7524  41.050717                          Restaurant Cafe   \n",
       "7525  41.025741                        Home-made, Izgara   \n",
       "7526  41.025501    Restaurant Cafe, Kebab, Turkish Pizza   \n",
       "\n",
       "      Average Cost for two          Currency  Has Table booking  \\\n",
       "0                     1100  Botswana Pula(P)                  1   \n",
       "1                     1100  Botswana Pula(P)                  1   \n",
       "2                     3100  Botswana Pula(P)                  0   \n",
       "3                      800  Botswana Pula(P)                  0   \n",
       "4                      700  Botswana Pula(P)                  0   \n",
       "...                    ...               ...                ...   \n",
       "7522                   300  Turkish Lira(TL)                  0   \n",
       "7523                    45  Turkish Lira(TL)                  0   \n",
       "7524                   140  Turkish Lira(TL)                  0   \n",
       "7525                    95  Turkish Lira(TL)                  0   \n",
       "7526                   150  Turkish Lira(TL)                  0   \n",
       "\n",
       "      Has Online delivery  Is delivering now  Switch to order menu  \\\n",
       "0                       0                  0                     0   \n",
       "1                       0                  0                     0   \n",
       "2                       0                  0                     0   \n",
       "3                       0                  0                     0   \n",
       "4                       0                  0                     0   \n",
       "...                   ...                ...                   ...   \n",
       "7522                    0                  0                     0   \n",
       "7523                    0                  0                     0   \n",
       "7524                    0                  0                     0   \n",
       "7525                    0                  0                     0   \n",
       "7526                    0                  0                     0   \n",
       "\n",
       "      Price range  Aggregate rating Rating color Rating text  Votes  \n",
       "0               3               4.6       3F7E00   Excellent    619  \n",
       "1               3               4.6       3F7E00   Excellent    619  \n",
       "2               4               4.7       3F7E00   Excellent    469  \n",
       "3               3               4.4       5BA829   Very Good    867  \n",
       "4               3               4.4       5BA829   Very Good    858  \n",
       "...           ...               ...          ...         ...    ...  \n",
       "7522            4               4.3       5BA829   Very Good   1367  \n",
       "7523            2               4.5       3F7E00   Excellent   1172  \n",
       "7524            4               4.2       5BA829   Very Good   1160  \n",
       "7525            3               4.0       5BA829   Very Good    770  \n",
       "7526            4               4.2       5BA829   Very Good   1141  \n",
       "\n",
       "[7527 rows x 21 columns]"
      ]
     },
     "execution_count": 176,
     "metadata": {},
     "output_type": "execute_result"
    }
   ],
   "source": [
    "df = pd.read_csv('data/zomato.csv')\n",
    "df"
   ]
  },
  {
   "cell_type": "code",
   "execution_count": null,
   "metadata": {},
   "outputs": [],
   "source": [
    "# FUNÇÕES ÚTEIS\n",
    "\n",
    "# 1. Para colocar o nome dos países com base no código de cada país\n",
    "# 2. Criar a categoria do tipo de comida com base no range de valores.\n",
    "# 3. Criar o nome das cores com base nos códigos de cores\n",
    "# 4. Para renomear as colunas do DataFrame"
   ]
  },
  {
   "cell_type": "code",
   "execution_count": null,
   "metadata": {},
   "outputs": [],
   "source": [
    "# Preenchimento do nome dos países\n",
    "COUNTRIES = {\n",
    "1: \"India\",\n",
    "14: \"Australia\",\n",
    "30: \"Brazil\",\n",
    "37: \"Canada\",\n",
    "94: \"Indonesia\",\n",
    "148: \"New Zeland\",\n",
    "162: \"Philippines\",\n",
    "166: \"Qatar\",\n",
    "184: \"Singapure\",\n",
    "189: \"South Africa\",\n",
    "191: \"Sri Lanka\",\n",
    "208: \"Turkey\",\n",
    "214: \"United Arab Emirates\",\n",
    "215: \"England\",\n",
    "216: \"United States of America\",\n",
    "}\n",
    "def country_name(country_id):\n",
    "    return COUNTRIES[country_id]\n",
    "\n",
    "#Criação do Tipo de Categoria de Comida\n",
    "def create_price_tye(price_range):\n",
    "    if price_range == 1:\n",
    "        return \"cheap\"\n",
    "    elif price_range == 2:\n",
    "        return \"normal\"\n",
    "    elif price_range == 3:\n",
    "        return \"expensive\"\n",
    "    else:\n",
    "        return \"gourmet\"\n",
    "\n",
    "# Criação do nome das Cores\n",
    "COLORS = {\n",
    "\"3F7E00\": \"darkgreen\",\n",
    "\"5BA829\": \"green\",\n",
    "\"9ACD32\": \"lightgreen\",\n",
    "\"CDD614\": \"orange\",\n",
    "\"FFBA00\": \"red\",\n",
    "\"CBCBC8\": \"darkred\",\n",
    "\"FF7800\": \"darkred\",\n",
    "}\n",
    "def color_name(color_code):\n",
    "    return COLORS[color_code]\n",
    "\n",
    "#Renomear as colunas do DataFrame\n",
    "def rename_columns(dataframe):\n",
    "    df = dataframe.copy()\n",
    "    title = lambda x: inflection.titleize(x)\n",
    "    snakecase = lambda x: inflection.underscore(x)\n",
    "    spaces = lambda x: x.replace(\" \", \"\")\n",
    "    cols_old = list(df.columns)\n",
    "    cols_old = list(map(title, cols_old))\n",
    "    cols_old = list(map(spaces, cols_old))\n",
    "    cols_new = list(map(snakecase, cols_old))\n",
    "    df.columns = cols_new\n",
    "    \n",
    "    return df\n",
    "\n",
    "# Além disso, o Cientista de Dados também sugeriu categorizar, inicialmente, todos os\n",
    "# restaurantes somente por um tipo de culinária. Para isso, ele te entregou o seguinte\n",
    "# código:\n",
    "#df[\"Cuisines\"] = df.loc[:, \"Cuisines\"].apply(lambda x: x.split(\",\")[0])\n",
    "df[\"Cuisines\"] = df.loc[:, \"Cuisines\"].astype(str).apply(lambda x: x.split(\",\")[0])"
   ]
  },
  {
   "cell_type": "code",
   "execution_count": 179,
   "metadata": {},
   "outputs": [],
   "source": [
    "df = rename_columns(df)"
   ]
  },
  {
   "cell_type": "code",
   "execution_count": 180,
   "metadata": {},
   "outputs": [
    {
     "data": {
      "text/html": [
       "<div>\n",
       "<style scoped>\n",
       "    .dataframe tbody tr th:only-of-type {\n",
       "        vertical-align: middle;\n",
       "    }\n",
       "\n",
       "    .dataframe tbody tr th {\n",
       "        vertical-align: top;\n",
       "    }\n",
       "\n",
       "    .dataframe thead th {\n",
       "        text-align: right;\n",
       "    }\n",
       "</style>\n",
       "<table border=\"1\" class=\"dataframe\">\n",
       "  <thead>\n",
       "    <tr style=\"text-align: right;\">\n",
       "      <th></th>\n",
       "      <th>restaurant_id</th>\n",
       "      <th>restaurant_name</th>\n",
       "      <th>country_code</th>\n",
       "      <th>city</th>\n",
       "      <th>address</th>\n",
       "      <th>locality</th>\n",
       "      <th>locality_verbose</th>\n",
       "      <th>longitude</th>\n",
       "      <th>latitude</th>\n",
       "      <th>cuisines</th>\n",
       "      <th>average_cost_for_two</th>\n",
       "      <th>currency</th>\n",
       "      <th>has_table_booking</th>\n",
       "      <th>has_online_delivery</th>\n",
       "      <th>is_delivering_now</th>\n",
       "      <th>switch_to_order_menu</th>\n",
       "      <th>price_range</th>\n",
       "      <th>aggregate_rating</th>\n",
       "      <th>rating_color</th>\n",
       "      <th>rating_text</th>\n",
       "      <th>votes</th>\n",
       "    </tr>\n",
       "  </thead>\n",
       "  <tbody>\n",
       "    <tr>\n",
       "      <th>0</th>\n",
       "      <td>6310675</td>\n",
       "      <td>Mama Lou's Italian Kitchen</td>\n",
       "      <td>162</td>\n",
       "      <td>Las Piñas City</td>\n",
       "      <td>Block 1, Lot 36, Tropical Avenue Corner Tropic...</td>\n",
       "      <td>BF International</td>\n",
       "      <td>BF International, Las Piñas City</td>\n",
       "      <td>121.009787</td>\n",
       "      <td>14.447615</td>\n",
       "      <td>Italian</td>\n",
       "      <td>1100</td>\n",
       "      <td>Botswana Pula(P)</td>\n",
       "      <td>1</td>\n",
       "      <td>0</td>\n",
       "      <td>0</td>\n",
       "      <td>0</td>\n",
       "      <td>3</td>\n",
       "      <td>4.6</td>\n",
       "      <td>3F7E00</td>\n",
       "      <td>Excellent</td>\n",
       "      <td>619</td>\n",
       "    </tr>\n",
       "    <tr>\n",
       "      <th>1</th>\n",
       "      <td>6310675</td>\n",
       "      <td>Mama Lou's Italian Kitchen</td>\n",
       "      <td>162</td>\n",
       "      <td>Las Piñas City</td>\n",
       "      <td>Block 1, Lot 36, Tropical Avenue Corner Tropic...</td>\n",
       "      <td>BF International</td>\n",
       "      <td>BF International, Las Piñas City</td>\n",
       "      <td>121.009787</td>\n",
       "      <td>14.447615</td>\n",
       "      <td>Italian</td>\n",
       "      <td>1100</td>\n",
       "      <td>Botswana Pula(P)</td>\n",
       "      <td>1</td>\n",
       "      <td>0</td>\n",
       "      <td>0</td>\n",
       "      <td>0</td>\n",
       "      <td>3</td>\n",
       "      <td>4.6</td>\n",
       "      <td>3F7E00</td>\n",
       "      <td>Excellent</td>\n",
       "      <td>619</td>\n",
       "    </tr>\n",
       "    <tr>\n",
       "      <th>2</th>\n",
       "      <td>6314542</td>\n",
       "      <td>Blackbird</td>\n",
       "      <td>162</td>\n",
       "      <td>Makati City</td>\n",
       "      <td>Nielson Tower, Ayala Triangle Gardens, Salcedo...</td>\n",
       "      <td>Ayala Triangle Gardens, Salcedo Village, Makat...</td>\n",
       "      <td>Ayala Triangle Gardens, Salcedo Village, Makat...</td>\n",
       "      <td>121.024562</td>\n",
       "      <td>14.556042</td>\n",
       "      <td>European, Asian</td>\n",
       "      <td>3100</td>\n",
       "      <td>Botswana Pula(P)</td>\n",
       "      <td>0</td>\n",
       "      <td>0</td>\n",
       "      <td>0</td>\n",
       "      <td>0</td>\n",
       "      <td>4</td>\n",
       "      <td>4.7</td>\n",
       "      <td>3F7E00</td>\n",
       "      <td>Excellent</td>\n",
       "      <td>469</td>\n",
       "    </tr>\n",
       "    <tr>\n",
       "      <th>3</th>\n",
       "      <td>6301293</td>\n",
       "      <td>Banapple</td>\n",
       "      <td>162</td>\n",
       "      <td>Makati City</td>\n",
       "      <td>Ayala Triangle Gardens, Salcedo Village, Makat...</td>\n",
       "      <td>Ayala Triangle Gardens, Salcedo Village, Makat...</td>\n",
       "      <td>Ayala Triangle Gardens, Salcedo Village, Makat...</td>\n",
       "      <td>121.023171</td>\n",
       "      <td>14.556196</td>\n",
       "      <td>Filipino, American, Italian, Bakery</td>\n",
       "      <td>800</td>\n",
       "      <td>Botswana Pula(P)</td>\n",
       "      <td>0</td>\n",
       "      <td>0</td>\n",
       "      <td>0</td>\n",
       "      <td>0</td>\n",
       "      <td>3</td>\n",
       "      <td>4.4</td>\n",
       "      <td>5BA829</td>\n",
       "      <td>Very Good</td>\n",
       "      <td>867</td>\n",
       "    </tr>\n",
       "    <tr>\n",
       "      <th>4</th>\n",
       "      <td>6315689</td>\n",
       "      <td>Bad Bird</td>\n",
       "      <td>162</td>\n",
       "      <td>Makati City</td>\n",
       "      <td>Hole In The Wall, Floor 4, Century City Mall, ...</td>\n",
       "      <td>Century City Mall, Poblacion, Makati City</td>\n",
       "      <td>Century City Mall, Poblacion, Makati City, Mak...</td>\n",
       "      <td>121.027708</td>\n",
       "      <td>14.565899</td>\n",
       "      <td>American</td>\n",
       "      <td>700</td>\n",
       "      <td>Botswana Pula(P)</td>\n",
       "      <td>0</td>\n",
       "      <td>0</td>\n",
       "      <td>0</td>\n",
       "      <td>0</td>\n",
       "      <td>3</td>\n",
       "      <td>4.4</td>\n",
       "      <td>5BA829</td>\n",
       "      <td>Very Good</td>\n",
       "      <td>858</td>\n",
       "    </tr>\n",
       "  </tbody>\n",
       "</table>\n",
       "</div>"
      ],
      "text/plain": [
       "   restaurant_id             restaurant_name  country_code            city  \\\n",
       "0        6310675  Mama Lou's Italian Kitchen           162  Las Piñas City   \n",
       "1        6310675  Mama Lou's Italian Kitchen           162  Las Piñas City   \n",
       "2        6314542                   Blackbird           162     Makati City   \n",
       "3        6301293                    Banapple           162     Makati City   \n",
       "4        6315689                    Bad Bird           162     Makati City   \n",
       "\n",
       "                                             address  \\\n",
       "0  Block 1, Lot 36, Tropical Avenue Corner Tropic...   \n",
       "1  Block 1, Lot 36, Tropical Avenue Corner Tropic...   \n",
       "2  Nielson Tower, Ayala Triangle Gardens, Salcedo...   \n",
       "3  Ayala Triangle Gardens, Salcedo Village, Makat...   \n",
       "4  Hole In The Wall, Floor 4, Century City Mall, ...   \n",
       "\n",
       "                                            locality  \\\n",
       "0                                   BF International   \n",
       "1                                   BF International   \n",
       "2  Ayala Triangle Gardens, Salcedo Village, Makat...   \n",
       "3  Ayala Triangle Gardens, Salcedo Village, Makat...   \n",
       "4          Century City Mall, Poblacion, Makati City   \n",
       "\n",
       "                                    locality_verbose   longitude   latitude  \\\n",
       "0                   BF International, Las Piñas City  121.009787  14.447615   \n",
       "1                   BF International, Las Piñas City  121.009787  14.447615   \n",
       "2  Ayala Triangle Gardens, Salcedo Village, Makat...  121.024562  14.556042   \n",
       "3  Ayala Triangle Gardens, Salcedo Village, Makat...  121.023171  14.556196   \n",
       "4  Century City Mall, Poblacion, Makati City, Mak...  121.027708  14.565899   \n",
       "\n",
       "                              cuisines  average_cost_for_two  \\\n",
       "0                              Italian                  1100   \n",
       "1                              Italian                  1100   \n",
       "2                      European, Asian                  3100   \n",
       "3  Filipino, American, Italian, Bakery                   800   \n",
       "4                             American                   700   \n",
       "\n",
       "           currency  has_table_booking  has_online_delivery  \\\n",
       "0  Botswana Pula(P)                  1                    0   \n",
       "1  Botswana Pula(P)                  1                    0   \n",
       "2  Botswana Pula(P)                  0                    0   \n",
       "3  Botswana Pula(P)                  0                    0   \n",
       "4  Botswana Pula(P)                  0                    0   \n",
       "\n",
       "   is_delivering_now  switch_to_order_menu  price_range  aggregate_rating  \\\n",
       "0                  0                     0            3               4.6   \n",
       "1                  0                     0            3               4.6   \n",
       "2                  0                     0            4               4.7   \n",
       "3                  0                     0            3               4.4   \n",
       "4                  0                     0            3               4.4   \n",
       "\n",
       "  rating_color rating_text  votes  \n",
       "0       3F7E00   Excellent    619  \n",
       "1       3F7E00   Excellent    619  \n",
       "2       3F7E00   Excellent    469  \n",
       "3       5BA829   Very Good    867  \n",
       "4       5BA829   Very Good    858  "
      ]
     },
     "execution_count": 180,
     "metadata": {},
     "output_type": "execute_result"
    }
   ],
   "source": [
    "df.head()"
   ]
  },
  {
   "cell_type": "code",
   "execution_count": 182,
   "metadata": {},
   "outputs": [
    {
     "data": {
      "text/plain": [
       "array([0])"
      ]
     },
     "execution_count": 182,
     "metadata": {},
     "output_type": "execute_result"
    }
   ],
   "source": [
    "df['switch_to_order_menu'].unique() # como a coluna \"Switch to order menu\" tem apenas os mesmos valores, irei removê-la"
   ]
  },
  {
   "cell_type": "code",
   "execution_count": 183,
   "metadata": {},
   "outputs": [],
   "source": [
    "df = df.drop('switch_to_order_menu', axis=1)"
   ]
  },
  {
   "cell_type": "code",
   "execution_count": 184,
   "metadata": {},
   "outputs": [],
   "source": [
    "df = df.drop_duplicates()"
   ]
  },
  {
   "cell_type": "code",
   "execution_count": 185,
   "metadata": {},
   "outputs": [
    {
     "data": {
      "text/plain": [
       "6942"
      ]
     },
     "execution_count": 185,
     "metadata": {},
     "output_type": "execute_result"
    }
   ],
   "source": [
    "df.shape[0] # quantas linhas restaram depois do drop_duplicates"
   ]
  },
  {
   "cell_type": "code",
   "execution_count": 186,
   "metadata": {},
   "outputs": [
    {
     "data": {
      "text/html": [
       "<div>\n",
       "<style scoped>\n",
       "    .dataframe tbody tr th:only-of-type {\n",
       "        vertical-align: middle;\n",
       "    }\n",
       "\n",
       "    .dataframe tbody tr th {\n",
       "        vertical-align: top;\n",
       "    }\n",
       "\n",
       "    .dataframe thead th {\n",
       "        text-align: right;\n",
       "    }\n",
       "</style>\n",
       "<table border=\"1\" class=\"dataframe\">\n",
       "  <thead>\n",
       "    <tr style=\"text-align: right;\">\n",
       "      <th></th>\n",
       "      <th>restaurant_id</th>\n",
       "      <th>country_code</th>\n",
       "      <th>longitude</th>\n",
       "      <th>latitude</th>\n",
       "      <th>average_cost_for_two</th>\n",
       "      <th>has_table_booking</th>\n",
       "      <th>has_online_delivery</th>\n",
       "      <th>is_delivering_now</th>\n",
       "      <th>price_range</th>\n",
       "      <th>aggregate_rating</th>\n",
       "      <th>votes</th>\n",
       "    </tr>\n",
       "  </thead>\n",
       "  <tbody>\n",
       "    <tr>\n",
       "      <th>count</th>\n",
       "      <td>6.942000e+03</td>\n",
       "      <td>6942.000000</td>\n",
       "      <td>6942.000000</td>\n",
       "      <td>6942.000000</td>\n",
       "      <td>6.942000e+03</td>\n",
       "      <td>6942.000000</td>\n",
       "      <td>6942.000000</td>\n",
       "      <td>6942.000000</td>\n",
       "      <td>6942.000000</td>\n",
       "      <td>6942.000000</td>\n",
       "      <td>6942.000000</td>\n",
       "    </tr>\n",
       "    <tr>\n",
       "      <th>mean</th>\n",
       "      <td>1.076193e+07</td>\n",
       "      <td>95.785941</td>\n",
       "      <td>31.441225</td>\n",
       "      <td>19.434945</td>\n",
       "      <td>7.506579e+03</td>\n",
       "      <td>0.060501</td>\n",
       "      <td>0.349755</td>\n",
       "      <td>0.174589</td>\n",
       "      <td>2.632383</td>\n",
       "      <td>4.126765</td>\n",
       "      <td>604.384039</td>\n",
       "    </tr>\n",
       "    <tr>\n",
       "      <th>std</th>\n",
       "      <td>7.037688e+06</td>\n",
       "      <td>99.299120</td>\n",
       "      <td>79.059108</td>\n",
       "      <td>23.499885</td>\n",
       "      <td>3.022515e+05</td>\n",
       "      <td>0.238430</td>\n",
       "      <td>0.476927</td>\n",
       "      <td>0.379643</td>\n",
       "      <td>0.966060</td>\n",
       "      <td>0.674754</td>\n",
       "      <td>1115.744044</td>\n",
       "    </tr>\n",
       "    <tr>\n",
       "      <th>min</th>\n",
       "      <td>5.490000e+02</td>\n",
       "      <td>1.000000</td>\n",
       "      <td>-122.700455</td>\n",
       "      <td>-41.330428</td>\n",
       "      <td>0.000000e+00</td>\n",
       "      <td>0.000000</td>\n",
       "      <td>0.000000</td>\n",
       "      <td>0.000000</td>\n",
       "      <td>1.000000</td>\n",
       "      <td>0.000000</td>\n",
       "      <td>0.000000</td>\n",
       "    </tr>\n",
       "    <tr>\n",
       "      <th>25%</th>\n",
       "      <td>3.600075e+06</td>\n",
       "      <td>1.000000</td>\n",
       "      <td>-43.225469</td>\n",
       "      <td>12.902646</td>\n",
       "      <td>6.000000e+01</td>\n",
       "      <td>0.000000</td>\n",
       "      <td>0.000000</td>\n",
       "      <td>0.000000</td>\n",
       "      <td>2.000000</td>\n",
       "      <td>4.000000</td>\n",
       "      <td>150.000000</td>\n",
       "    </tr>\n",
       "    <tr>\n",
       "      <th>50%</th>\n",
       "      <td>7.900186e+06</td>\n",
       "      <td>30.000000</td>\n",
       "      <td>73.758624</td>\n",
       "      <td>25.270021</td>\n",
       "      <td>2.500000e+02</td>\n",
       "      <td>0.000000</td>\n",
       "      <td>0.000000</td>\n",
       "      <td>0.000000</td>\n",
       "      <td>3.000000</td>\n",
       "      <td>4.200000</td>\n",
       "      <td>328.000000</td>\n",
       "    </tr>\n",
       "    <tr>\n",
       "      <th>75%</th>\n",
       "      <td>1.714692e+07</td>\n",
       "      <td>215.000000</td>\n",
       "      <td>79.832568</td>\n",
       "      <td>32.749289</td>\n",
       "      <td>6.000000e+02</td>\n",
       "      <td>0.000000</td>\n",
       "      <td>1.000000</td>\n",
       "      <td>0.000000</td>\n",
       "      <td>3.000000</td>\n",
       "      <td>4.500000</td>\n",
       "      <td>649.000000</td>\n",
       "    </tr>\n",
       "    <tr>\n",
       "      <th>max</th>\n",
       "      <td>1.904028e+07</td>\n",
       "      <td>216.000000</td>\n",
       "      <td>175.310552</td>\n",
       "      <td>55.976980</td>\n",
       "      <td>2.500002e+07</td>\n",
       "      <td>1.000000</td>\n",
       "      <td>1.000000</td>\n",
       "      <td>1.000000</td>\n",
       "      <td>4.000000</td>\n",
       "      <td>4.900000</td>\n",
       "      <td>41333.000000</td>\n",
       "    </tr>\n",
       "  </tbody>\n",
       "</table>\n",
       "</div>"
      ],
      "text/plain": [
       "       restaurant_id  country_code    longitude     latitude  \\\n",
       "count   6.942000e+03   6942.000000  6942.000000  6942.000000   \n",
       "mean    1.076193e+07     95.785941    31.441225    19.434945   \n",
       "std     7.037688e+06     99.299120    79.059108    23.499885   \n",
       "min     5.490000e+02      1.000000  -122.700455   -41.330428   \n",
       "25%     3.600075e+06      1.000000   -43.225469    12.902646   \n",
       "50%     7.900186e+06     30.000000    73.758624    25.270021   \n",
       "75%     1.714692e+07    215.000000    79.832568    32.749289   \n",
       "max     1.904028e+07    216.000000   175.310552    55.976980   \n",
       "\n",
       "       average_cost_for_two  has_table_booking  has_online_delivery  \\\n",
       "count          6.942000e+03        6942.000000          6942.000000   \n",
       "mean           7.506579e+03           0.060501             0.349755   \n",
       "std            3.022515e+05           0.238430             0.476927   \n",
       "min            0.000000e+00           0.000000             0.000000   \n",
       "25%            6.000000e+01           0.000000             0.000000   \n",
       "50%            2.500000e+02           0.000000             0.000000   \n",
       "75%            6.000000e+02           0.000000             1.000000   \n",
       "max            2.500002e+07           1.000000             1.000000   \n",
       "\n",
       "       is_delivering_now  price_range  aggregate_rating         votes  \n",
       "count        6942.000000  6942.000000       6942.000000   6942.000000  \n",
       "mean            0.174589     2.632383          4.126765    604.384039  \n",
       "std             0.379643     0.966060          0.674754   1115.744044  \n",
       "min             0.000000     1.000000          0.000000      0.000000  \n",
       "25%             0.000000     2.000000          4.000000    150.000000  \n",
       "50%             0.000000     3.000000          4.200000    328.000000  \n",
       "75%             0.000000     3.000000          4.500000    649.000000  \n",
       "max             1.000000     4.000000          4.900000  41333.000000  "
      ]
     },
     "execution_count": 186,
     "metadata": {},
     "output_type": "execute_result"
    }
   ],
   "source": [
    "df.describe() # entendo melhor os dados numéricos"
   ]
  },
  {
   "cell_type": "code",
   "execution_count": null,
   "metadata": {},
   "outputs": [
    {
     "data": {
      "text/plain": [
       "restaurant_id            0\n",
       "restaurant_name          0\n",
       "country_code             0\n",
       "city                     0\n",
       "address                  0\n",
       "locality                 0\n",
       "locality_verbose         0\n",
       "longitude                0\n",
       "latitude                 0\n",
       "cuisines                13\n",
       "average_cost_for_two     0\n",
       "currency                 0\n",
       "has_table_booking        0\n",
       "has_online_delivery      0\n",
       "is_delivering_now        0\n",
       "price_range              0\n",
       "aggregate_rating         0\n",
       "rating_color             0\n",
       "rating_text              0\n",
       "votes                    0\n",
       "dtype: int64"
      ]
     },
     "execution_count": 187,
     "metadata": {},
     "output_type": "execute_result"
    }
   ],
   "source": [
    "df.isna().sum() "
   ]
  },
  {
   "cell_type": "code",
   "execution_count": 188,
   "metadata": {},
   "outputs": [
    {
     "data": {
      "text/plain": [
       "restaurant_id           0\n",
       "restaurant_name         0\n",
       "country_code            0\n",
       "city                    0\n",
       "address                 0\n",
       "locality                0\n",
       "locality_verbose        0\n",
       "longitude               0\n",
       "latitude                0\n",
       "cuisines                0\n",
       "average_cost_for_two    0\n",
       "currency                0\n",
       "has_table_booking       0\n",
       "has_online_delivery     0\n",
       "is_delivering_now       0\n",
       "price_range             0\n",
       "aggregate_rating        0\n",
       "rating_color            0\n",
       "rating_text             0\n",
       "votes                   0\n",
       "dtype: int64"
      ]
     },
     "execution_count": 188,
     "metadata": {},
     "output_type": "execute_result"
    }
   ],
   "source": [
    "df = df.dropna()\n",
    "df.isna().sum()"
   ]
  },
  {
   "cell_type": "code",
   "execution_count": 36,
   "metadata": {},
   "outputs": [],
   "source": [
    "# Começando a responder as perguntas"
   ]
  },
  {
   "cell_type": "code",
   "execution_count": null,
   "metadata": {},
   "outputs": [],
   "source": [
    "# Geral\n",
    "# 1. Quantos restaurantes únicos estão registrados?\n",
    "# 2. Quantos países únicos estão registrados?\n",
    "# 3. Quantas cidades únicas estão registradas?\n",
    "# 4. Qual o total de avaliações feitas?\n",
    "# 5. Qual o total de tipos de culinária registrados?"
   ]
  },
  {
   "cell_type": "code",
   "execution_count": 193,
   "metadata": {},
   "outputs": [
    {
     "name": "stdout",
     "output_type": "stream",
     "text": [
      "Há 6929 restaurantes únicos no dataframe\n"
     ]
    }
   ],
   "source": [
    "# 1. Quantos restaurantes únicos estão registrados?\n",
    "print(f'Há {df['restaurant_id'].nunique()} restaurantes únicos no dataframe')"
   ]
  },
  {
   "cell_type": "code",
   "execution_count": 194,
   "metadata": {},
   "outputs": [
    {
     "name": "stdout",
     "output_type": "stream",
     "text": [
      "Há 15 países únicos no dataframe\n"
     ]
    }
   ],
   "source": [
    "# 2. Quantos países únicos estão registrados?\n",
    "print(f'Há {df['country_code'].nunique()} países únicos no dataframe')"
   ]
  },
  {
   "cell_type": "code",
   "execution_count": 195,
   "metadata": {},
   "outputs": [
    {
     "name": "stdout",
     "output_type": "stream",
     "text": [
      "Há 125 cidades únicas no dataframe\n"
     ]
    }
   ],
   "source": [
    "# 3. Quantas cidades únicas estão registradas?\n",
    "print(f'Há {df['city'].nunique()} cidades únicas no dataframe')"
   ]
  },
  {
   "cell_type": "code",
   "execution_count": 196,
   "metadata": {},
   "outputs": [
    {
     "name": "stdout",
     "output_type": "stream",
     "text": [
      "Há 4194533 avaliações feitas no dataframe\n"
     ]
    }
   ],
   "source": [
    "# 4. Qual o total de avaliações feitas?\n",
    "print(f'Há {df['votes'].sum()} avaliações feitas no dataframe')"
   ]
  },
  {
   "cell_type": "code",
   "execution_count": 197,
   "metadata": {},
   "outputs": [
    {
     "data": {
      "text/plain": [
       "2832"
      ]
     },
     "execution_count": 197,
     "metadata": {},
     "output_type": "execute_result"
    }
   ],
   "source": [
    "# 5. Qual o total de tipos de culinária registrados?\n",
    "df['cuisines'].nunique() "
   ]
  },
  {
   "cell_type": "code",
   "execution_count": null,
   "metadata": {},
   "outputs": [],
   "source": [
    "# Pais\n",
    "# 1. Qual o nome do país que possui mais cidades registradas?\n",
    "# 2. Qual o nome do país que possui mais restaurantes registrados?\n",
    "# 3. Qual o nome do país que possui mais restaurantes com o nível de preço igual a 4\n",
    "# registrados?\n",
    "# 4. Qual o nome do país que possui a maior quantidade de tipos de culinária\n",
    "# distintos?\n",
    "# 5. Qual o nome do país que possui a maior quantidade de avaliações feitas?\n",
    "# 6. Qual o nome do país que possui a maior quantidade de restaurantes que fazem\n",
    "# entrega?\n",
    "# 7. Qual o nome do país que possui a maior quantidade de restaurantes que aceitam\n",
    "# reservas?\n",
    "# 8. Qual o nome do país que possui, na média, a maior quantidade de avaliações\n",
    "# registrada?\n",
    "# 9. Qual o nome do país que possui, na média, a maior nota média registrada?\n",
    "# 10. Qual o nome do país que possui, na média, a menor nota média registrada?\n",
    "# 11. Qual a média de preço de um prato para dois por país?"
   ]
  },
  {
   "cell_type": "code",
   "execution_count": 198,
   "metadata": {},
   "outputs": [
    {
     "data": {
      "text/html": [
       "<div>\n",
       "<style scoped>\n",
       "    .dataframe tbody tr th:only-of-type {\n",
       "        vertical-align: middle;\n",
       "    }\n",
       "\n",
       "    .dataframe tbody tr th {\n",
       "        vertical-align: top;\n",
       "    }\n",
       "\n",
       "    .dataframe thead th {\n",
       "        text-align: right;\n",
       "    }\n",
       "</style>\n",
       "<table border=\"1\" class=\"dataframe\">\n",
       "  <thead>\n",
       "    <tr style=\"text-align: right;\">\n",
       "      <th></th>\n",
       "      <th>restaurant_id</th>\n",
       "      <th>restaurant_name</th>\n",
       "      <th>country_code</th>\n",
       "      <th>city</th>\n",
       "      <th>address</th>\n",
       "      <th>locality</th>\n",
       "      <th>locality_verbose</th>\n",
       "      <th>longitude</th>\n",
       "      <th>latitude</th>\n",
       "      <th>cuisines</th>\n",
       "      <th>average_cost_for_two</th>\n",
       "      <th>currency</th>\n",
       "      <th>has_table_booking</th>\n",
       "      <th>has_online_delivery</th>\n",
       "      <th>is_delivering_now</th>\n",
       "      <th>price_range</th>\n",
       "      <th>aggregate_rating</th>\n",
       "      <th>rating_color</th>\n",
       "      <th>rating_text</th>\n",
       "      <th>votes</th>\n",
       "    </tr>\n",
       "  </thead>\n",
       "  <tbody>\n",
       "    <tr>\n",
       "      <th>0</th>\n",
       "      <td>6310675</td>\n",
       "      <td>Mama Lou's Italian Kitchen</td>\n",
       "      <td>162</td>\n",
       "      <td>Las Piñas City</td>\n",
       "      <td>Block 1, Lot 36, Tropical Avenue Corner Tropic...</td>\n",
       "      <td>BF International</td>\n",
       "      <td>BF International, Las Piñas City</td>\n",
       "      <td>121.009787</td>\n",
       "      <td>14.447615</td>\n",
       "      <td>Italian</td>\n",
       "      <td>1100</td>\n",
       "      <td>Botswana Pula(P)</td>\n",
       "      <td>1</td>\n",
       "      <td>0</td>\n",
       "      <td>0</td>\n",
       "      <td>3</td>\n",
       "      <td>4.6</td>\n",
       "      <td>3F7E00</td>\n",
       "      <td>Excellent</td>\n",
       "      <td>619</td>\n",
       "    </tr>\n",
       "  </tbody>\n",
       "</table>\n",
       "</div>"
      ],
      "text/plain": [
       "   restaurant_id             restaurant_name  country_code            city  \\\n",
       "0        6310675  Mama Lou's Italian Kitchen           162  Las Piñas City   \n",
       "\n",
       "                                             address          locality  \\\n",
       "0  Block 1, Lot 36, Tropical Avenue Corner Tropic...  BF International   \n",
       "\n",
       "                   locality_verbose   longitude   latitude cuisines  \\\n",
       "0  BF International, Las Piñas City  121.009787  14.447615  Italian   \n",
       "\n",
       "   average_cost_for_two          currency  has_table_booking  \\\n",
       "0                  1100  Botswana Pula(P)                  1   \n",
       "\n",
       "   has_online_delivery  is_delivering_now  price_range  aggregate_rating  \\\n",
       "0                    0                  0            3               4.6   \n",
       "\n",
       "  rating_color rating_text  votes  \n",
       "0       3F7E00   Excellent    619  "
      ]
     },
     "execution_count": 198,
     "metadata": {},
     "output_type": "execute_result"
    }
   ],
   "source": [
    "df.head(1)"
   ]
  },
  {
   "cell_type": "code",
   "execution_count": 203,
   "metadata": {},
   "outputs": [
    {
     "data": {
      "text/plain": [
       "country_code     1\n",
       "city            49\n",
       "Name: 0, dtype: int64"
      ]
     },
     "execution_count": 203,
     "metadata": {},
     "output_type": "execute_result"
    }
   ],
   "source": [
    "# 1. Qual o nome do país que possui mais cidades registradas?\n",
    "(df[['country_code', 'city']].groupby('country_code')\n",
    "                             .nunique()\n",
    "                             .sort_values('city', ascending=False)\n",
    "                             .reset_index()\n",
    "                             .iloc[0,0:]) \n"
   ]
  },
  {
   "cell_type": "code",
   "execution_count": 204,
   "metadata": {},
   "outputs": [
    {
     "data": {
      "text/plain": [
       "'India'"
      ]
     },
     "execution_count": 204,
     "metadata": {},
     "output_type": "execute_result"
    }
   ],
   "source": [
    "country_name(1)"
   ]
  },
  {
   "cell_type": "code",
   "execution_count": 205,
   "metadata": {},
   "outputs": [
    {
     "data": {
      "text/plain": [
       "country_code        1\n",
       "restaurant_id    3111\n",
       "Name: 0, dtype: int64"
      ]
     },
     "execution_count": 205,
     "metadata": {},
     "output_type": "execute_result"
    }
   ],
   "source": [
    "# 2. Qual o nome do país que possui mais restaurantes registrados?\n",
    "(df[['country_code', 'restaurant_id']].groupby('country_code')\n",
    "                                      .count()\n",
    "                                      .sort_values('restaurant_id', ascending=False)\n",
    "                                      .reset_index()\n",
    "                                      .iloc[0,0:])"
   ]
  },
  {
   "cell_type": "code",
   "execution_count": 206,
   "metadata": {},
   "outputs": [
    {
     "data": {
      "text/plain": [
       "'India'"
      ]
     },
     "execution_count": 206,
     "metadata": {},
     "output_type": "execute_result"
    }
   ],
   "source": [
    "country_name(1)"
   ]
  },
  {
   "cell_type": "code",
   "execution_count": 211,
   "metadata": {},
   "outputs": [
    {
     "data": {
      "text/plain": [
       "country_code       216\n",
       "restaurant_name    415\n",
       "Name: 0, dtype: int64"
      ]
     },
     "execution_count": 211,
     "metadata": {},
     "output_type": "execute_result"
    }
   ],
   "source": [
    "# 3. Qual o nome do país que possui mais restaurantes com o nível de preço igual a 4\n",
    "# registrados?\n",
    "df_aux = df[df['price_range'] >= 4]\n",
    "(df_aux[['country_code', 'restaurant_name']].groupby('country_code')\n",
    "                                            .count()\n",
    "                                            .sort_values('restaurant_name', ascending=False)\n",
    "                                            .reset_index()\n",
    "                                            .iloc[0,0:])"
   ]
  },
  {
   "cell_type": "code",
   "execution_count": 212,
   "metadata": {},
   "outputs": [
    {
     "data": {
      "text/plain": [
       "'United States of America'"
      ]
     },
     "execution_count": 212,
     "metadata": {},
     "output_type": "execute_result"
    }
   ],
   "source": [
    "country_name(216)"
   ]
  },
  {
   "cell_type": "code",
   "execution_count": 218,
   "metadata": {},
   "outputs": [
    {
     "data": {
      "text/plain": [
       "country_code       1\n",
       "cuisines        1449\n",
       "Name: 0, dtype: int64"
      ]
     },
     "execution_count": 218,
     "metadata": {},
     "output_type": "execute_result"
    }
   ],
   "source": [
    "# 4. Qual o nome do país que possui a maior quantidade de tipos de culinária\n",
    "# distintos?\n",
    "(df[['country_code', 'cuisines']].groupby('country_code')\n",
    "                                 .nunique()\n",
    "                                 .sort_values('cuisines', ascending=False)\n",
    "                                 .reset_index()\n",
    "                                 .iloc[0,:])\n"
   ]
  },
  {
   "cell_type": "code",
   "execution_count": 216,
   "metadata": {},
   "outputs": [
    {
     "data": {
      "text/plain": [
       "'India'"
      ]
     },
     "execution_count": 216,
     "metadata": {},
     "output_type": "execute_result"
    }
   ],
   "source": [
    "country_name(1)"
   ]
  },
  {
   "cell_type": "code",
   "execution_count": 220,
   "metadata": {},
   "outputs": [
    {
     "data": {
      "text/plain": [
       "country_code       1\n",
       "votes           3111\n",
       "Name: 0, dtype: int64"
      ]
     },
     "execution_count": 220,
     "metadata": {},
     "output_type": "execute_result"
    }
   ],
   "source": [
    "# 5. Qual o nome do país que possui a maior quantidade de avaliações feitas?\n",
    "(df[['country_code', 'votes']].groupby('country_code')\n",
    "                              .count()\n",
    "                              .reset_index()\n",
    "                              .sort_values('votes', ascending=False)\n",
    "                              .iloc[0,:])"
   ]
  },
  {
   "cell_type": "code",
   "execution_count": 221,
   "metadata": {},
   "outputs": [
    {
     "data": {
      "text/plain": [
       "'India'"
      ]
     },
     "execution_count": 221,
     "metadata": {},
     "output_type": "execute_result"
    }
   ],
   "source": [
    "country_name(1)"
   ]
  },
  {
   "cell_type": "code",
   "execution_count": 224,
   "metadata": {},
   "outputs": [
    {
     "data": {
      "text/plain": [
       "country_code            1\n",
       "is_delivering_now    1150\n",
       "Name: 0, dtype: int64"
      ]
     },
     "execution_count": 224,
     "metadata": {},
     "output_type": "execute_result"
    }
   ],
   "source": [
    "# 6. Qual o nome do país que possui a maior quantidade de restaurantes que fazem\n",
    "# entrega?\n",
    "df_aux = df[df['is_delivering_now'] == 1]\n",
    "\n",
    "(df_aux[['country_code', 'is_delivering_now']].groupby('country_code')\n",
    "                                              .count()\n",
    "                                              .sort_values('is_delivering_now', ascending=False)\n",
    "                                              .reset_index()\n",
    "                                              .iloc[0,:])"
   ]
  },
  {
   "cell_type": "code",
   "execution_count": 225,
   "metadata": {},
   "outputs": [
    {
     "data": {
      "text/plain": [
       "'India'"
      ]
     },
     "execution_count": 225,
     "metadata": {},
     "output_type": "execute_result"
    }
   ],
   "source": [
    "country_name(1)"
   ]
  },
  {
   "cell_type": "code",
   "execution_count": null,
   "metadata": {},
   "outputs": [
    {
     "data": {
      "text/plain": [
       "country_code       1\n",
       "restaurant_id    256\n",
       "Name: 0, dtype: int64"
      ]
     },
     "execution_count": 230,
     "metadata": {},
     "output_type": "execute_result"
    }
   ],
   "source": [
    "# 7. Qual o nome do país que possui a maior quantidade de restaurantes que aceitam\n",
    "# reservas?\n",
    "df_aux = df[df['has_table_booking'] == 1]\n",
    "\n",
    "(df_aux[['country_code', 'restaurant_id']].groupby('country_code')\n",
    "                                          .count()\n",
    "                                          .sort_values('restaurant_id', ascending=False)\n",
    "                                          .reset_index()\n",
    "                                          .iloc[0,:])"
   ]
  },
  {
   "cell_type": "code",
   "execution_count": 231,
   "metadata": {},
   "outputs": [
    {
     "data": {
      "text/plain": [
       "'India'"
      ]
     },
     "execution_count": 231,
     "metadata": {},
     "output_type": "execute_result"
    }
   ],
   "source": [
    "country_name(1)"
   ]
  },
  {
   "cell_type": "code",
   "execution_count": 233,
   "metadata": {},
   "outputs": [
    {
     "data": {
      "text/plain": [
       "country_code      94.000\n",
       "votes           1112.825\n",
       "Name: 0, dtype: float64"
      ]
     },
     "execution_count": 233,
     "metadata": {},
     "output_type": "execute_result"
    }
   ],
   "source": [
    "# 8. Qual o nome do país que possui, na média, a maior quantidade de avaliações\n",
    "# registrada?\n",
    "(df[['country_code', 'votes']].groupby('country_code')\n",
    "                              .mean()\n",
    "                              .sort_values('votes', ascending=False)\n",
    "                              .reset_index()\n",
    "                              .iloc[0,:])"
   ]
  },
  {
   "cell_type": "code",
   "execution_count": 234,
   "metadata": {},
   "outputs": [
    {
     "data": {
      "text/plain": [
       "'Indonesia'"
      ]
     },
     "execution_count": 234,
     "metadata": {},
     "output_type": "execute_result"
    }
   ],
   "source": [
    "country_name(94)"
   ]
  },
  {
   "cell_type": "code",
   "execution_count": 238,
   "metadata": {},
   "outputs": [
    {
     "data": {
      "text/plain": [
       "country_code        94.00000\n",
       "aggregate_rating     4.60125\n",
       "Name: 0, dtype: float64"
      ]
     },
     "execution_count": 238,
     "metadata": {},
     "output_type": "execute_result"
    }
   ],
   "source": [
    "# 9. Qual o nome do país que possui, na média, a maior nota média registrada?\n",
    "(df[['country_code', 'aggregate_rating']].groupby('country_code')\n",
    "                                         .mean()\n",
    "                                         .sort_values('aggregate_rating', ascending=False)\n",
    "                                         .reset_index()\n",
    "                                         .iloc[0,:])\n"
   ]
  },
  {
   "cell_type": "code",
   "execution_count": 239,
   "metadata": {},
   "outputs": [
    {
     "data": {
      "text/plain": [
       "'Indonesia'"
      ]
     },
     "execution_count": 239,
     "metadata": {},
     "output_type": "execute_result"
    }
   ],
   "source": [
    "country_name(94)"
   ]
  },
  {
   "cell_type": "code",
   "execution_count": 240,
   "metadata": {},
   "outputs": [
    {
     "data": {
      "text/plain": [
       "country_code        30.000000\n",
       "aggregate_rating     3.321667\n",
       "Name: 0, dtype: float64"
      ]
     },
     "execution_count": 240,
     "metadata": {},
     "output_type": "execute_result"
    }
   ],
   "source": [
    "# 10. Qual o nome do país que possui, na média, a menor nota média registrada?\n",
    "(df[['country_code', 'aggregate_rating']].groupby('country_code')\n",
    "                                         .mean('aggregate_rating')\n",
    "                                         .sort_values('aggregate_rating')\n",
    "                                         .reset_index()\n",
    "                                         .iloc[0,:])"
   ]
  },
  {
   "cell_type": "code",
   "execution_count": 241,
   "metadata": {},
   "outputs": [
    {
     "data": {
      "text/plain": [
       "'Brazil'"
      ]
     },
     "execution_count": 241,
     "metadata": {},
     "output_type": "execute_result"
    }
   ],
   "source": [
    "country_name(30)"
   ]
  },
  {
   "cell_type": "code",
   "execution_count": 248,
   "metadata": {},
   "outputs": [
    {
     "data": {
      "text/html": [
       "<div>\n",
       "<style scoped>\n",
       "    .dataframe tbody tr th:only-of-type {\n",
       "        vertical-align: middle;\n",
       "    }\n",
       "\n",
       "    .dataframe tbody tr th {\n",
       "        vertical-align: top;\n",
       "    }\n",
       "\n",
       "    .dataframe thead th {\n",
       "        text-align: right;\n",
       "    }\n",
       "</style>\n",
       "<table border=\"1\" class=\"dataframe\">\n",
       "  <thead>\n",
       "    <tr style=\"text-align: right;\">\n",
       "      <th></th>\n",
       "      <th>country_code</th>\n",
       "      <th>average_cost_for_two</th>\n",
       "    </tr>\n",
       "  </thead>\n",
       "  <tbody>\n",
       "    <tr>\n",
       "      <th>0</th>\n",
       "      <td>94</td>\n",
       "      <td>303000.000000</td>\n",
       "    </tr>\n",
       "    <tr>\n",
       "      <th>1</th>\n",
       "      <td>14</td>\n",
       "      <td>138959.783333</td>\n",
       "    </tr>\n",
       "    <tr>\n",
       "      <th>2</th>\n",
       "      <td>191</td>\n",
       "      <td>2579.375000</td>\n",
       "    </tr>\n",
       "    <tr>\n",
       "      <th>3</th>\n",
       "      <td>162</td>\n",
       "      <td>1227.825000</td>\n",
       "    </tr>\n",
       "    <tr>\n",
       "      <th>4</th>\n",
       "      <td>1</td>\n",
       "      <td>704.400514</td>\n",
       "    </tr>\n",
       "    <tr>\n",
       "      <th>5</th>\n",
       "      <td>189</td>\n",
       "      <td>339.228324</td>\n",
       "    </tr>\n",
       "    <tr>\n",
       "      <th>6</th>\n",
       "      <td>166</td>\n",
       "      <td>174.000000</td>\n",
       "    </tr>\n",
       "    <tr>\n",
       "      <th>7</th>\n",
       "      <td>214</td>\n",
       "      <td>153.716667</td>\n",
       "    </tr>\n",
       "    <tr>\n",
       "      <th>8</th>\n",
       "      <td>184</td>\n",
       "      <td>141.437500</td>\n",
       "    </tr>\n",
       "    <tr>\n",
       "      <th>9</th>\n",
       "      <td>30</td>\n",
       "      <td>138.812500</td>\n",
       "    </tr>\n",
       "    <tr>\n",
       "      <th>10</th>\n",
       "      <td>208</td>\n",
       "      <td>128.584906</td>\n",
       "    </tr>\n",
       "    <tr>\n",
       "      <th>11</th>\n",
       "      <td>148</td>\n",
       "      <td>62.154812</td>\n",
       "    </tr>\n",
       "    <tr>\n",
       "      <th>12</th>\n",
       "      <td>216</td>\n",
       "      <td>55.029840</td>\n",
       "    </tr>\n",
       "    <tr>\n",
       "      <th>13</th>\n",
       "      <td>215</td>\n",
       "      <td>43.510000</td>\n",
       "    </tr>\n",
       "    <tr>\n",
       "      <th>14</th>\n",
       "      <td>37</td>\n",
       "      <td>41.861111</td>\n",
       "    </tr>\n",
       "  </tbody>\n",
       "</table>\n",
       "</div>"
      ],
      "text/plain": [
       "    country_code  average_cost_for_two\n",
       "0             94         303000.000000\n",
       "1             14         138959.783333\n",
       "2            191           2579.375000\n",
       "3            162           1227.825000\n",
       "4              1            704.400514\n",
       "5            189            339.228324\n",
       "6            166            174.000000\n",
       "7            214            153.716667\n",
       "8            184            141.437500\n",
       "9             30            138.812500\n",
       "10           208            128.584906\n",
       "11           148             62.154812\n",
       "12           216             55.029840\n",
       "13           215             43.510000\n",
       "14            37             41.861111"
      ]
     },
     "execution_count": 248,
     "metadata": {},
     "output_type": "execute_result"
    }
   ],
   "source": [
    "# 11. Qual a média de preço de um prato para dois por país?\n",
    "(df[['country_code', 'average_cost_for_two']].groupby('country_code')\n",
    "                                             .mean()\n",
    "                                             .sort_values('average_cost_for_two', ascending=False)\n",
    "                                             .reset_index())"
   ]
  },
  {
   "cell_type": "code",
   "execution_count": null,
   "metadata": {},
   "outputs": [],
   "source": [
    "# Cidade\n",
    "# 1. Qual o nome da cidade que possui mais restaurantes registrados?\n",
    "# 2. Qual o nome da cidade que possui mais restaurantes com nota média acima de\n",
    "# 4?\n",
    "# 3. Qual o nome da cidade que possui mais restaurantes com nota média abaixo de\n",
    "# 2.5?\n",
    "# 4. Qual o nome da cidade que possui o maior valor médio de um prato para dois?\n",
    "# 5. Qual o nome da cidade que possui a maior quantidade de tipos de culinária\n",
    "# distintas?\n",
    "# 6. Qual o nome da cidade que possui a maior quantidade de restaurantes que fazem\n",
    "# reservas?\n",
    "# 7. Qual o nome da cidade que possui a maior quantidade de restaurantes que fazem\n",
    "# entregas?\n",
    "# 8. Qual o nome da cidade que possui a maior quantidade de restaurantes que\n",
    "# aceitam pedidos online?"
   ]
  },
  {
   "cell_type": "code",
   "execution_count": 251,
   "metadata": {},
   "outputs": [
    {
     "data": {
      "text/plain": [
       "'Abu Dhabi'"
      ]
     },
     "execution_count": 251,
     "metadata": {},
     "output_type": "execute_result"
    }
   ],
   "source": [
    "# 1. Qual o nome da cidade que possui mais restaurantes registrados?\n",
    "(df[['city', 'restaurant_id']].groupby('city')\n",
    "                              .count()\n",
    "                              .sort_values('restaurant_id', ascending=False)\n",
    "                              .reset_index()\n",
    "                              .iloc[0,0])"
   ]
  },
  {
   "cell_type": "code",
   "execution_count": 254,
   "metadata": {},
   "outputs": [
    {
     "data": {
      "text/plain": [
       "'Bangalore'"
      ]
     },
     "execution_count": 254,
     "metadata": {},
     "output_type": "execute_result"
    }
   ],
   "source": [
    "# 2. Qual o nome da cidade que possui mais restaurantes com nota média acima de\n",
    "# 4?\n",
    "df_aux = df[df['aggregate_rating'] > 4]\n",
    "(df_aux[['city', 'aggregate_rating']].groupby('city')\n",
    "                                     .count()\n",
    "                                     .sort_values('aggregate_rating', ascending=False)\n",
    "                                     .reset_index()\n",
    "                                     .iloc[0,0])"
   ]
  },
  {
   "cell_type": "code",
   "execution_count": 255,
   "metadata": {},
   "outputs": [
    {
     "data": {
      "text/plain": [
       "'Gangtok'"
      ]
     },
     "execution_count": 255,
     "metadata": {},
     "output_type": "execute_result"
    }
   ],
   "source": [
    "# 3. Qual o nome da cidade que possui mais restaurantes com nota média abaixo de\n",
    "# 2.5?\n",
    "df_aux = df[df['aggregate_rating'] < 2.5]\n",
    "(df_aux[['city', 'restaurant_id']].groupby('city')\n",
    "                                  .count()\n",
    "                                  .sort_values('restaurant_id', ascending=False)\n",
    "                                  .reset_index()\n",
    "                                  .iloc[0,0])"
   ]
  },
  {
   "cell_type": "code",
   "execution_count": 260,
   "metadata": {},
   "outputs": [
    {
     "data": {
      "text/plain": [
       "'Adelaide'"
      ]
     },
     "execution_count": 260,
     "metadata": {},
     "output_type": "execute_result"
    }
   ],
   "source": [
    "# 4. Qual o nome da cidade que possui o maior valor médio de um prato para dois?\n",
    "(df[['city', 'average_cost_for_two']].groupby('city')\n",
    "                                     .mean()\n",
    "                                     .sort_values('average_cost_for_two', ascending=False)\n",
    "                                     .reset_index()\n",
    "                                     .iloc[0,0])"
   ]
  },
  {
   "cell_type": "code",
   "execution_count": 270,
   "metadata": {},
   "outputs": [
    {
     "data": {
      "text/plain": [
       "'Mangalore'"
      ]
     },
     "execution_count": 270,
     "metadata": {},
     "output_type": "execute_result"
    }
   ],
   "source": [
    "# 5. Qual o nome da cidade que possui a maior quantidade de tipos de culinária\n",
    "# distintas?\n",
    "(df[['city', 'cuisines']].groupby('city')\n",
    "                         .nunique()\n",
    "                         .sort_values('cuisines', ascending=False)\n",
    "                         .reset_index()\n",
    "                         .iloc[0,0])"
   ]
  },
  {
   "cell_type": "code",
   "execution_count": 271,
   "metadata": {},
   "outputs": [
    {
     "data": {
      "text/plain": [
       "'Bangalore'"
      ]
     },
     "execution_count": 271,
     "metadata": {},
     "output_type": "execute_result"
    }
   ],
   "source": [
    "# 6. Qual o nome da cidade que possui a maior quantidade de restaurantes que fazem\n",
    "# reservas?\n",
    "df_aux = df[df['has_table_booking'] == 1]\n",
    "\n",
    "(df_aux[['city', 'restaurant_id']].groupby('city')\n",
    "                                  .count()\n",
    "                                  .sort_values('restaurant_id', ascending=False)\n",
    "                                  .reset_index()\n",
    "                                  .iloc[0,0])"
   ]
  },
  {
   "cell_type": "code",
   "execution_count": 274,
   "metadata": {},
   "outputs": [
    {
     "data": {
      "text/plain": [
       "'Vadodara'"
      ]
     },
     "execution_count": 274,
     "metadata": {},
     "output_type": "execute_result"
    }
   ],
   "source": [
    "# 7. Qual o nome da cidade que possui a maior quantidade de restaurantes que fazem\n",
    "# entregas?\n",
    "df_aux = df[df['is_delivering_now'] == 1]\n",
    "\n",
    "(df_aux[['city', 'restaurant_id']].groupby('city')\n",
    "                                  .count()\n",
    "                                  .sort_values('restaurant_id', ascending=False)\n",
    "                                  .reset_index()\n",
    "                                  .iloc[0,0])"
   ]
  },
  {
   "cell_type": "code",
   "execution_count": 277,
   "metadata": {},
   "outputs": [
    {
     "data": {
      "text/plain": [
       "'Bhopal'"
      ]
     },
     "execution_count": 277,
     "metadata": {},
     "output_type": "execute_result"
    }
   ],
   "source": [
    "# 8. Qual o nome da cidade que possui a maior quantidade de restaurantes que\n",
    "# aceitam pedidos online?\n",
    "(df[df['has_online_delivery'] == 1][['city', 'restaurant_id']].groupby('city')\n",
    "                                                              .count()\n",
    "                                                              .sort_values('restaurant_id', ascending=False)\n",
    "                                                              .reset_index()\n",
    "                                                              .iloc[0,0])"
   ]
  },
  {
   "cell_type": "code",
   "execution_count": null,
   "metadata": {},
   "outputs": [],
   "source": [
    "# Restaurantes\n",
    "# 1. Qual o nome do restaurante que possui a maior quantidade de avaliações?\n",
    "# 2. Qual o nome do restaurante com a maior nota média?\n",
    "# 3. Qual o nome do restaurante que possui o maior valor de uma prato para duas\n",
    "# pessoas?\n",
    "# 4. Qual o nome do restaurante de tipo de culinária brasileira que possui a menor\n",
    "# média de avaliação?\n",
    "# 5. Qual o nome do restaurante de tipo de culinária brasileira, e que é do Brasil, que\n",
    "# possui a maior média de avaliação?\n",
    "# 6. Os restaurantes que aceitam pedido online são também, na média, os\n",
    "# restaurantes que mais possuem avaliações registradas?\n",
    "# 7. Os restaurantes que fazem reservas são também, na média, os restaurantes que\n",
    "# possuem o maior valor médio de um prato para duas pessoas?\n",
    "# 8. Os restaurantes do tipo de culinária japonesa dos Estados Unidos da América\n",
    "# possuem um valor médio de prato para duas pessoas maior que as churrascarias\n",
    "# americanas (BBQ)?"
   ]
  },
  {
   "cell_type": "code",
   "execution_count": 350,
   "metadata": {},
   "outputs": [
    {
     "data": {
      "text/plain": [
       "'Bawarchi'"
      ]
     },
     "execution_count": 350,
     "metadata": {},
     "output_type": "execute_result"
    }
   ],
   "source": [
    "# 1. Qual o nome do restaurante que possui a maior quantidade de avaliações?\n",
    "(df[['restaurant_name', 'votes']].sort_values('votes', ascending=False).reset_index(drop=True).iloc[0,0])"
   ]
  },
  {
   "cell_type": "code",
   "execution_count": 351,
   "metadata": {},
   "outputs": [
    {
     "data": {
      "text/plain": [
       "'The Purple Pig'"
      ]
     },
     "execution_count": 351,
     "metadata": {},
     "output_type": "execute_result"
    }
   ],
   "source": [
    "# 2. Qual o nome do restaurante com a maior nota média?\n",
    "(df[['restaurant_name', 'aggregate_rating']].sort_values('aggregate_rating', ascending=False)\n",
    "                                            .reset_index(drop=True)\n",
    "                                            .iloc[0,0])"
   ]
  },
  {
   "cell_type": "code",
   "execution_count": 352,
   "metadata": {},
   "outputs": [
    {
     "data": {
      "text/plain": [
       "\"d'Arry's Verandah Restaurant\""
      ]
     },
     "execution_count": 352,
     "metadata": {},
     "output_type": "execute_result"
    }
   ],
   "source": [
    "# 3. Qual o nome do restaurante que possui o maior valor de uma prato para duas\n",
    "# pessoas?\n",
    "(df[['restaurant_name', 'average_cost_for_two']].sort_values('average_cost_for_two', ascending=False)\n",
    "                                                .reset_index(drop=True).iloc[0,0])\n",
    "\n",
    "# df.loc[:, cols].sort_values(['average_cost_for_two', 'restaurant_id'], ascending=[False, True]).iloc[0, 1]"
   ]
  },
  {
   "cell_type": "code",
   "execution_count": 353,
   "metadata": {},
   "outputs": [
    {
     "data": {
      "text/plain": [
       "'Café Savana'"
      ]
     },
     "execution_count": 353,
     "metadata": {},
     "output_type": "execute_result"
    }
   ],
   "source": [
    "# 4. Qual o nome do restaurante de tipo de culinária brasileira que possui a menor\n",
    "# média de avaliação?\n",
    "(df[df['cuisines'] == 'Brazilian'][['restaurant_name', 'aggregate_rating']].sort_values('aggregate_rating', ascending=True)\n",
    "                                                                           .reset_index(drop=True)\n",
    "                                                                           .iloc[0,0])"
   ]
  },
  {
   "cell_type": "code",
   "execution_count": 364,
   "metadata": {},
   "outputs": [
    {
     "data": {
      "text/plain": [
       "'Aprazível'"
      ]
     },
     "execution_count": 364,
     "metadata": {},
     "output_type": "execute_result"
    }
   ],
   "source": [
    "# 5. Qual o nome do restaurante de tipo de culinária brasileira, e que é do Brasil, que\n",
    "# possui a maior média de avaliação?\n",
    "((df[(df['cuisines'] == 'Brazilian') & (df['country_code'] == 30)])[['restaurant_name', 'aggregate_rating']].sort_values('aggregate_rating', ascending=False)\n",
    "                                                                                                            .reset_index(drop=True)\n",
    "                                                                                                            .iloc[0,0])"
   ]
  },
  {
   "cell_type": "code",
   "execution_count": 365,
   "metadata": {},
   "outputs": [
    {
     "data": {
      "text/html": [
       "<div>\n",
       "<style scoped>\n",
       "    .dataframe tbody tr th:only-of-type {\n",
       "        vertical-align: middle;\n",
       "    }\n",
       "\n",
       "    .dataframe tbody tr th {\n",
       "        vertical-align: top;\n",
       "    }\n",
       "\n",
       "    .dataframe thead th {\n",
       "        text-align: right;\n",
       "    }\n",
       "</style>\n",
       "<table border=\"1\" class=\"dataframe\">\n",
       "  <thead>\n",
       "    <tr style=\"text-align: right;\">\n",
       "      <th></th>\n",
       "      <th>has_online_delivery</th>\n",
       "      <th>votes</th>\n",
       "    </tr>\n",
       "  </thead>\n",
       "  <tbody>\n",
       "    <tr>\n",
       "      <th>0</th>\n",
       "      <td>1</td>\n",
       "      <td>838.821664</td>\n",
       "    </tr>\n",
       "    <tr>\n",
       "      <th>1</th>\n",
       "      <td>0</td>\n",
       "      <td>479.421018</td>\n",
       "    </tr>\n",
       "  </tbody>\n",
       "</table>\n",
       "</div>"
      ],
      "text/plain": [
       "   has_online_delivery       votes\n",
       "0                    1  838.821664\n",
       "1                    0  479.421018"
      ]
     },
     "execution_count": 365,
     "metadata": {},
     "output_type": "execute_result"
    }
   ],
   "source": [
    "# 6. Os restaurantes que aceitam pedido online são também, na média, os\n",
    "# restaurantes que mais possuem avaliações registradas?\n",
    "(df[['has_online_delivery', 'votes']].groupby('has_online_delivery')\n",
    "                                     .mean()\n",
    "                                     .sort_values('votes', ascending=False)\n",
    "                                     .reset_index()\n",
    "                                     )"
   ]
  },
  {
   "cell_type": "code",
   "execution_count": 367,
   "metadata": {},
   "outputs": [
    {
     "data": {
      "text/html": [
       "<div>\n",
       "<style scoped>\n",
       "    .dataframe tbody tr th:only-of-type {\n",
       "        vertical-align: middle;\n",
       "    }\n",
       "\n",
       "    .dataframe tbody tr th {\n",
       "        vertical-align: top;\n",
       "    }\n",
       "\n",
       "    .dataframe thead th {\n",
       "        text-align: right;\n",
       "    }\n",
       "</style>\n",
       "<table border=\"1\" class=\"dataframe\">\n",
       "  <thead>\n",
       "    <tr style=\"text-align: right;\">\n",
       "      <th></th>\n",
       "      <th>average_cost_for_two</th>\n",
       "    </tr>\n",
       "    <tr>\n",
       "      <th>has_table_booking</th>\n",
       "      <th></th>\n",
       "    </tr>\n",
       "  </thead>\n",
       "  <tbody>\n",
       "    <tr>\n",
       "      <th>1</th>\n",
       "      <td>69998.423810</td>\n",
       "    </tr>\n",
       "    <tr>\n",
       "      <th>0</th>\n",
       "      <td>3488.596866</td>\n",
       "    </tr>\n",
       "  </tbody>\n",
       "</table>\n",
       "</div>"
      ],
      "text/plain": [
       "                   average_cost_for_two\n",
       "has_table_booking                      \n",
       "1                          69998.423810\n",
       "0                           3488.596866"
      ]
     },
     "execution_count": 367,
     "metadata": {},
     "output_type": "execute_result"
    }
   ],
   "source": [
    "# 7. Os restaurantes que fazem reservas são também, na média, os restaurantes que\n",
    "# possuem o maior valor médio de um prato para duas pessoas?\n",
    "(df[['has_table_booking','average_cost_for_two']].groupby('has_table_booking')\n",
    "                                                 .mean()\n",
    "                                                 .sort_values('average_cost_for_two', ascending=False)\n",
    "                                                 )"
   ]
  },
  {
   "cell_type": "code",
   "execution_count": 375,
   "metadata": {},
   "outputs": [
    {
     "data": {
      "text/html": [
       "<div>\n",
       "<style scoped>\n",
       "    .dataframe tbody tr th:only-of-type {\n",
       "        vertical-align: middle;\n",
       "    }\n",
       "\n",
       "    .dataframe tbody tr th {\n",
       "        vertical-align: top;\n",
       "    }\n",
       "\n",
       "    .dataframe thead th {\n",
       "        text-align: right;\n",
       "    }\n",
       "</style>\n",
       "<table border=\"1\" class=\"dataframe\">\n",
       "  <thead>\n",
       "    <tr style=\"text-align: right;\">\n",
       "      <th></th>\n",
       "      <th>cuisines</th>\n",
       "      <th>average_cost_for_two</th>\n",
       "    </tr>\n",
       "  </thead>\n",
       "  <tbody>\n",
       "    <tr>\n",
       "      <th>0</th>\n",
       "      <td>Japanese</td>\n",
       "      <td>40.000000</td>\n",
       "    </tr>\n",
       "    <tr>\n",
       "      <th>1</th>\n",
       "      <td>BBQ</td>\n",
       "      <td>39.705882</td>\n",
       "    </tr>\n",
       "  </tbody>\n",
       "</table>\n",
       "</div>"
      ],
      "text/plain": [
       "   cuisines  average_cost_for_two\n",
       "0  Japanese             40.000000\n",
       "1       BBQ             39.705882"
      ]
     },
     "execution_count": 375,
     "metadata": {},
     "output_type": "execute_result"
    }
   ],
   "source": [
    "# 8. Os restaurantes do tipo de culinária japonesa dos Estados Unidos da América\n",
    "# possuem um valor médio de prato para duas pessoas maior que as churrascarias\n",
    "# americanas (BBQ)?\n",
    "\n",
    "lines = (df['country_code'] == 216) & ((df['cuisines'] == 'BBQ') | (df['cuisines'] == 'Japanese'))\n",
    "\n",
    "(df.loc[lines, ['average_cost_for_two', 'cuisines'] ]\n",
    "                                         .groupby('cuisines')\n",
    "                                         .mean()\n",
    "                                         .sort_values('average_cost_for_two', ascending=False)\n",
    "                                         .reset_index())"
   ]
  },
  {
   "cell_type": "code",
   "execution_count": 376,
   "metadata": {},
   "outputs": [],
   "source": [
    "# Tipos de Culinária\n",
    "# 1. Dos restaurantes que possuem o tipo de culinária italiana, qual o nome do\n",
    "# restaurante com a maior média de avaliação?\n",
    "# 2. Dos restaurantes que possuem o tipo de culinária italiana, qual o nome do\n",
    "# restaurante com a menor média de avaliação?\n",
    "# 3. Dos restaurantes que possuem o tipo de culinária americana, qual o nome do\n",
    "# restaurante com a maior média de avaliação?\n",
    "# 4. Dos restaurantes que possuem o tipo de culinária americana, qual o nome do\n",
    "# restaurante com a menor média de avaliação?\n",
    "# 5. Dos restaurantes que possuem o tipo de culinária árabe, qual o nome do\n",
    "# restaurante com a maior média de avaliação?\n",
    "# 6. Dos restaurantes que possuem o tipo de culinária árabe, qual o nome do\n",
    "# restaurante com a menor média de avaliação?\n",
    "# 7. Dos restaurantes que possuem o tipo de culinária japonesa, qual o nome do\n",
    "# restaurante com a maior média de avaliação?\n",
    "# 8. Dos restaurantes que possuem o tipo de culinária japonesa, qual o nome do\n",
    "# restaurante com a menor média de avaliação?\n",
    "# 9. Dos restaurantes que possuem o tipo de culinária caseira, qual o nome do\n",
    "# restaurante com a maior média de avaliação?\n",
    "# 10. Dos restaurantes que possuem o tipo de culinária caseira, qual o nome do\n",
    "# restaurante com a menor média de avaliação?\n",
    "# 11. Qual o tipo de culinária que possui o maior valor médio de um prato para duas\n",
    "# pessoas?\n",
    "# 12. Qual o tipo de culinária que possui a maior nota média?\n",
    "# 13. Qual o tipo de culinária que possui mais restaurantes que aceitam pedidos\n",
    "# online e fazem entregas?"
   ]
  },
  {
   "cell_type": "code",
   "execution_count": 398,
   "metadata": {},
   "outputs": [
    {
     "data": {
      "text/plain": [
       "'Ombra'"
      ]
     },
     "execution_count": 398,
     "metadata": {},
     "output_type": "execute_result"
    }
   ],
   "source": [
    "# 1. Dos restaurantes que possuem o tipo de culinária italiana, qual o nome do\n",
    "# restaurante com a maior média de avaliação?\n",
    "\n",
    "(df[df['cuisines'] == 'Italian'][['restaurant_name', 'aggregate_rating', 'restaurant_id']].sort_values(['aggregate_rating',\n",
    "                                                                                                        'restaurant_id'], ascending=[False, True])\n",
    "                                                                         .iloc[0,0])"
   ]
  },
  {
   "cell_type": "code",
   "execution_count": 392,
   "metadata": {},
   "outputs": [
    {
     "data": {
      "text/plain": [
       "'Ristorantino'"
      ]
     },
     "execution_count": 392,
     "metadata": {},
     "output_type": "execute_result"
    }
   ],
   "source": [
    "# 2. Dos restaurantes que possuem o tipo de culinária italiana, qual o nome do\n",
    "# restaurante com a menor média de avaliação?\n",
    "(df[df['cuisines'] == 'Italian'][['restaurant_name', 'aggregate_rating', 'restaurant_id']].sort_values(['aggregate_rating', \n",
    "                                                                                                        'restaurant_id'], ascending=[True, True])\n",
    "                                                                         .iloc[0,0])"
   ]
  },
  {
   "cell_type": "code",
   "execution_count": 402,
   "metadata": {},
   "outputs": [
    {
     "data": {
      "text/plain": [
       "\"S'MAC\""
      ]
     },
     "execution_count": 402,
     "metadata": {},
     "output_type": "execute_result"
    }
   ],
   "source": [
    "# 3. Dos restaurantes que possuem o tipo de culinária americana, qual o nome do\n",
    "# restaurante com a maior média de avaliação?\n",
    "(df[df['cuisines'] == 'American'][['restaurant_name', 'restaurant_id', 'aggregate_rating']].sort_values(['aggregate_rating',\n",
    "                                                                                                       'restaurant_id'], ascending=[False,\n",
    "                                                                                                                                    True])\n",
    "                                                                                           .iloc[0,0])"
   ]
  },
  {
   "cell_type": "code",
   "execution_count": 404,
   "metadata": {},
   "outputs": [
    {
     "data": {
      "text/plain": [
       "'Alston Bar & Beef'"
      ]
     },
     "execution_count": 404,
     "metadata": {},
     "output_type": "execute_result"
    }
   ],
   "source": [
    "# 4. Dos restaurantes que possuem o tipo de culinária americana, qual o nome do\n",
    "# restaurante com a menor média de avaliação?\n",
    "(df[df['cuisines'] == 'American'][['restaurant_name', 'restaurant_id', 'aggregate_rating']].sort_values(['aggregate_rating',\n",
    "                                                                                                         'restaurant_id'], ascending=[True,\n",
    "                                                                                                                                      True])\n",
    "                                                                                           .iloc[0,0])"
   ]
  },
  {
   "cell_type": "code",
   "execution_count": 406,
   "metadata": {},
   "outputs": [
    {
     "data": {
      "text/plain": [
       "'Mandi@36'"
      ]
     },
     "execution_count": 406,
     "metadata": {},
     "output_type": "execute_result"
    }
   ],
   "source": [
    "# 5. Dos restaurantes que possuem o tipo de culinária árabe, qual o nome do\n",
    "# restaurante com a maior média de avaliação?\n",
    "(df[df['cuisines'] == 'Arabian'][['restaurant_name', 'restaurant_id', 'aggregate_rating']].sort_values(['aggregate_rating', \n",
    "                                                                                                        'restaurant_id'], ascending=[False,\n",
    "                                                                                                                                     True])\n",
    "                                                                                          .iloc[0,0])"
   ]
  },
  {
   "cell_type": "code",
   "execution_count": 408,
   "metadata": {},
   "outputs": [
    {
     "data": {
      "text/plain": [
       "'Raful'"
      ]
     },
     "execution_count": 408,
     "metadata": {},
     "output_type": "execute_result"
    }
   ],
   "source": [
    "# 6. Dos restaurantes que possuem o tipo de culinária árabe, qual o nome do\n",
    "# restaurante com a menor média de avaliação?\n",
    "(df[df['cuisines'] == 'Arabian'][['restaurant_name', \n",
    "                                  'restaurant_id', 'aggregate_rating']].sort_values(['aggregate_rating', \n",
    "                                                                                    'restaurant_id'], ascending=[True,\n",
    "                                                                                                                 True])\n",
    "                                                                        .iloc[0,0])\n"
   ]
  },
  {
   "cell_type": "code",
   "execution_count": 409,
   "metadata": {},
   "outputs": [
    {
     "data": {
      "text/plain": [
       "'Sushi Leblon'"
      ]
     },
     "execution_count": 409,
     "metadata": {},
     "output_type": "execute_result"
    }
   ],
   "source": [
    "# 7. Dos restaurantes que possuem o tipo de culinária japonesa, qual o nome do\n",
    "# restaurante com a maior média de avaliação?\n",
    "(df[df['cuisines'] == 'Japanese'][['restaurant_name', 'restaurant_id'\n",
    "                                   , 'aggregate_rating']].sort_values(['aggregate_rating', \n",
    "                                                                       'restaurant_id'], ascending=[False,\n",
    "                                                                                                    True])\n",
    "                                                         .iloc[0,0])"
   ]
  },
  {
   "cell_type": "code",
   "execution_count": 411,
   "metadata": {},
   "outputs": [
    {
     "data": {
      "text/plain": [
       "'Banzai Sushi'"
      ]
     },
     "execution_count": 411,
     "metadata": {},
     "output_type": "execute_result"
    }
   ],
   "source": [
    "# 8. Dos restaurantes que possuem o tipo de culinária japonesa, qual o nome do\n",
    "# restaurante com a menor média de avaliação?\n",
    "(df[df['cuisines'] == 'Japanese'][['restaurant_name',\n",
    "                                   'restaurant_id',\n",
    "                                   'aggregate_rating']].sort_values(['aggregate_rating',\n",
    "                                                                     'restaurant_id'], ascending=[True,\n",
    "                                                                                                  True])\n",
    "                                                       .iloc[0,0])"
   ]
  },
  {
   "cell_type": "code",
   "execution_count": 417,
   "metadata": {},
   "outputs": [
    {
     "data": {
      "text/plain": [
       "'GurMekan Restaurant'"
      ]
     },
     "execution_count": 417,
     "metadata": {},
     "output_type": "execute_result"
    }
   ],
   "source": [
    "# 9. Dos restaurantes que possuem o tipo de culinária caseira, qual o nome do\n",
    "# restaurante com a maior média de avaliação?\n",
    "(df[df['cuisines'] == 'Home-made'][['restaurant_name', \n",
    "                                    'restaurant_id',\n",
    "                                    'aggregate_rating']].sort_values(['aggregate_rating', \n",
    "                                                                      'restaurant_id'], ascending=[False,\n",
    "                                                                                                   True])\n",
    "                                                        .iloc[0,0])"
   ]
  },
  {
   "cell_type": "code",
   "execution_count": 415,
   "metadata": {},
   "outputs": [
    {
     "data": {
      "text/plain": [
       "'GurMekan Restaurant'"
      ]
     },
     "execution_count": 415,
     "metadata": {},
     "output_type": "execute_result"
    }
   ],
   "source": [
    "# 10. Dos restaurantes que possuem o tipo de culinária caseira, qual o nome do\n",
    "# restaurante com a menor média de avaliação?\n",
    "(df[df['cuisines'] == 'Home-made'][['restaurant_name', \n",
    "                                    'restaurant_id',\n",
    "                                    'aggregate_rating']].sort_values(['aggregate_rating', \n",
    "                                                                      'restaurant_id'], ascending=[True,\n",
    "                                                                                                   True])\n",
    "                                                        .iloc[0,0])"
   ]
  },
  {
   "cell_type": "code",
   "execution_count": 421,
   "metadata": {},
   "outputs": [
    {
     "data": {
      "text/plain": [
       "'Modern Australian, Australian'"
      ]
     },
     "execution_count": 421,
     "metadata": {},
     "output_type": "execute_result"
    }
   ],
   "source": [
    "# 11. Qual o tipo de culinária que possui o maior valor médio de um prato para duas\n",
    "# pessoas?\n",
    "(df[['cuisines', 'average_cost_for_two', 'restaurant_id']].sort_values(['average_cost_for_two',\n",
    "                                                                        'restaurant_id'], ascending=[False,\n",
    "                                                                                                     True])\n",
    "                                                          .iloc[0,0])"
   ]
  },
  {
   "cell_type": "code",
   "execution_count": 425,
   "metadata": {},
   "outputs": [
    {
     "data": {
      "text/plain": [
       "'Filipino, International, Southern'"
      ]
     },
     "execution_count": 425,
     "metadata": {},
     "output_type": "execute_result"
    }
   ],
   "source": [
    "# 12. Qual o tipo de culinária que possui a maior nota média?\n",
    "\n",
    "(df[['cuisines', 'aggregate_rating']].groupby('cuisines')\n",
    "                                     .max()\n",
    "                                     .sort_values('aggregate_rating', ascending=False)\n",
    "                                     .reset_index()\n",
    "                                     .iloc[0,0])"
   ]
  },
  {
   "cell_type": "code",
   "execution_count": 429,
   "metadata": {},
   "outputs": [
    {
     "data": {
      "text/html": [
       "<div>\n",
       "<style scoped>\n",
       "    .dataframe tbody tr th:only-of-type {\n",
       "        vertical-align: middle;\n",
       "    }\n",
       "\n",
       "    .dataframe tbody tr th {\n",
       "        vertical-align: top;\n",
       "    }\n",
       "\n",
       "    .dataframe thead th {\n",
       "        text-align: right;\n",
       "    }\n",
       "</style>\n",
       "<table border=\"1\" class=\"dataframe\">\n",
       "  <thead>\n",
       "    <tr style=\"text-align: right;\">\n",
       "      <th></th>\n",
       "      <th>restaurant_id</th>\n",
       "      <th>restaurant_name</th>\n",
       "      <th>country_code</th>\n",
       "      <th>city</th>\n",
       "      <th>address</th>\n",
       "      <th>locality</th>\n",
       "      <th>locality_verbose</th>\n",
       "      <th>longitude</th>\n",
       "      <th>latitude</th>\n",
       "      <th>cuisines</th>\n",
       "      <th>average_cost_for_two</th>\n",
       "      <th>currency</th>\n",
       "      <th>has_table_booking</th>\n",
       "      <th>has_online_delivery</th>\n",
       "      <th>is_delivering_now</th>\n",
       "      <th>price_range</th>\n",
       "      <th>aggregate_rating</th>\n",
       "      <th>rating_color</th>\n",
       "      <th>rating_text</th>\n",
       "      <th>votes</th>\n",
       "    </tr>\n",
       "  </thead>\n",
       "  <tbody>\n",
       "    <tr>\n",
       "      <th>0</th>\n",
       "      <td>6310675</td>\n",
       "      <td>Mama Lou's Italian Kitchen</td>\n",
       "      <td>162</td>\n",
       "      <td>Las Piñas City</td>\n",
       "      <td>Block 1, Lot 36, Tropical Avenue Corner Tropic...</td>\n",
       "      <td>BF International</td>\n",
       "      <td>BF International, Las Piñas City</td>\n",
       "      <td>121.009787</td>\n",
       "      <td>14.447615</td>\n",
       "      <td>Italian</td>\n",
       "      <td>1100</td>\n",
       "      <td>Botswana Pula(P)</td>\n",
       "      <td>1</td>\n",
       "      <td>0</td>\n",
       "      <td>0</td>\n",
       "      <td>3</td>\n",
       "      <td>4.6</td>\n",
       "      <td>3F7E00</td>\n",
       "      <td>Excellent</td>\n",
       "      <td>619</td>\n",
       "    </tr>\n",
       "  </tbody>\n",
       "</table>\n",
       "</div>"
      ],
      "text/plain": [
       "   restaurant_id             restaurant_name  country_code            city  \\\n",
       "0        6310675  Mama Lou's Italian Kitchen           162  Las Piñas City   \n",
       "\n",
       "                                             address          locality  \\\n",
       "0  Block 1, Lot 36, Tropical Avenue Corner Tropic...  BF International   \n",
       "\n",
       "                   locality_verbose   longitude   latitude cuisines  \\\n",
       "0  BF International, Las Piñas City  121.009787  14.447615  Italian   \n",
       "\n",
       "   average_cost_for_two          currency  has_table_booking  \\\n",
       "0                  1100  Botswana Pula(P)                  1   \n",
       "\n",
       "   has_online_delivery  is_delivering_now  price_range  aggregate_rating  \\\n",
       "0                    0                  0            3               4.6   \n",
       "\n",
       "  rating_color rating_text  votes  \n",
       "0       3F7E00   Excellent    619  "
      ]
     },
     "execution_count": 429,
     "metadata": {},
     "output_type": "execute_result"
    }
   ],
   "source": [
    "df.head(1)"
   ]
  },
  {
   "cell_type": "code",
   "execution_count": 438,
   "metadata": {},
   "outputs": [
    {
     "data": {
      "text/html": [
       "<div>\n",
       "<style scoped>\n",
       "    .dataframe tbody tr th:only-of-type {\n",
       "        vertical-align: middle;\n",
       "    }\n",
       "\n",
       "    .dataframe tbody tr th {\n",
       "        vertical-align: top;\n",
       "    }\n",
       "\n",
       "    .dataframe thead th {\n",
       "        text-align: right;\n",
       "    }\n",
       "</style>\n",
       "<table border=\"1\" class=\"dataframe\">\n",
       "  <thead>\n",
       "    <tr style=\"text-align: right;\">\n",
       "      <th></th>\n",
       "      <th>cuisines</th>\n",
       "      <th>restaurant_id</th>\n",
       "    </tr>\n",
       "  </thead>\n",
       "  <tbody>\n",
       "    <tr>\n",
       "      <th>0</th>\n",
       "      <td>North Indian</td>\n",
       "      <td>158</td>\n",
       "    </tr>\n",
       "  </tbody>\n",
       "</table>\n",
       "</div>"
      ],
      "text/plain": [
       "       cuisines  restaurant_id\n",
       "0  North Indian            158"
      ]
     },
     "execution_count": 438,
     "metadata": {},
     "output_type": "execute_result"
    }
   ],
   "source": [
    "# 13. Qual o tipo de culinária que possui mais restaurantes que aceitam pedidos\n",
    "# online e fazem entregas?\n",
    "lines = (df['has_online_delivery'] == 1) & (df['is_delivering_now'] == 1)\n",
    "\n",
    "(df.loc[:, ['restaurant_id', 'cuisines'] ]\n",
    "                                         .groupby('cuisines')\n",
    "                                         .count()\n",
    "                                         .sort_values('restaurant_id', ascending=False)\n",
    "                                         .reset_index()).head(1)"
   ]
  }
 ],
 "metadata": {
  "kernelspec": {
   "display_name": ".venv",
   "language": "python",
   "name": "python3"
  },
  "language_info": {
   "codemirror_mode": {
    "name": "ipython",
    "version": 3
   },
   "file_extension": ".py",
   "mimetype": "text/x-python",
   "name": "python",
   "nbconvert_exporter": "python",
   "pygments_lexer": "ipython3",
   "version": "3.13.0"
  }
 },
 "nbformat": 4,
 "nbformat_minor": 2
}
